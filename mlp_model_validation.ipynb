{
  "nbformat": 4,
  "nbformat_minor": 0,
  "metadata": {
    "colab": {
      "name": "mlp_model_validation.ipynb",
      "provenance": [],
      "authorship_tag": "ABX9TyN7mDJ+2kysEXwoPE5eaYVa",
      "include_colab_link": true
    },
    "kernelspec": {
      "name": "python3",
      "display_name": "Python 3"
    },
    "language_info": {
      "name": "python"
    }
  },
  "cells": [
    {
      "cell_type": "markdown",
      "metadata": {
        "id": "view-in-github",
        "colab_type": "text"
      },
      "source": [
        "<a href=\"https://colab.research.google.com/github/Hinoto04/2021_PNUAC_AIData/blob/main/mlp_model_validation.ipynb\" target=\"_parent\"><img src=\"https://colab.research.google.com/assets/colab-badge.svg\" alt=\"Open In Colab\"/></a>"
      ]
    },
    {
      "cell_type": "code",
      "metadata": {
        "id": "M4VD28DzBhDW"
      },
      "source": [
        "import numpy as np\n",
        "import matplotlib.pyplot as plt\n",
        "\n",
        "from tensorflow.keras.models import Sequential, load_model\n",
        "from tensorflow.keras.layers import Dense\n",
        "from tensorflow.keras.callbacks import ModelCheckpoint\n",
        "from tensorflow.keras.utils import plot_model, to_categorical\n",
        "from tensorflow.keras.datasets import mnist"
      ],
      "execution_count": 1,
      "outputs": []
    },
    {
      "cell_type": "code",
      "metadata": {
        "colab": {
          "base_uri": "https://localhost:8080/"
        },
        "id": "JNBW7wd6GKfd",
        "outputId": "a766f5f9-0bb0-4e52-efb3-f6b5e7d9fbba"
      },
      "source": [
        "(x_train, y_train), (x_test, y_test) = mnist.load_data()\n",
        "\n",
        "print('x_train shape : ' + str(x_train.shape))\n",
        "print('y_train sahpe : ' + str(y_train.shape))\n",
        "print('x_test shape : ' + str(x_test.shape))\n",
        "print('y_test shape : ' + str(y_test.shape))"
      ],
      "execution_count": 2,
      "outputs": [
        {
          "output_type": "stream",
          "text": [
            "Downloading data from https://storage.googleapis.com/tensorflow/tf-keras-datasets/mnist.npz\n",
            "11493376/11490434 [==============================] - 0s 0us/step\n",
            "x_train shape : (60000, 28, 28)\n",
            "y_train sahpe : (60000,)\n",
            "x_test shape : (10000, 28, 28)\n",
            "y_test shape : (10000,)\n"
          ],
          "name": "stdout"
        }
      ]
    },
    {
      "cell_type": "code",
      "metadata": {
        "colab": {
          "base_uri": "https://localhost:8080/",
          "height": 283
        },
        "id": "PLF5MHDLGoit",
        "outputId": "56bb3f46-c0fa-4c35-bc3e-1ddca191b7d7"
      },
      "source": [
        "plt.imshow(x_test[0], cmap='gray')"
      ],
      "execution_count": 3,
      "outputs": [
        {
          "output_type": "execute_result",
          "data": {
            "text/plain": [
              "<matplotlib.image.AxesImage at 0x7f8709f16610>"
            ]
          },
          "metadata": {
            "tags": []
          },
          "execution_count": 3
        },
        {
          "output_type": "display_data",
          "data": {
            "image/png": "[encoded data removed]",
            "text/plain": [
              "<Figure size 432x288 with 1 Axes>"
            ]
          },
          "metadata": {
            "tags": [],
            "needs_background": "light"
          }
        }
      ]
    },
    {
      "cell_type": "code",
      "metadata": {
        "id": "CB0jwneOH_IM"
      },
      "source": [
        "x_train = x_train.reshape(60000, 784).astype('float32') / 255.0\n",
        "x_test = x_test.reshape(10000, 784).astype('float32') / 255.0\n",
        "y_train = to_categorical(y_train)\n",
        "y_test = to_categorical(y_test)"
      ],
      "execution_count": 5,
      "outputs": []
    },
    {
      "cell_type": "code",
      "metadata": {
        "id": "ldN5oRQcIVMf"
      },
      "source": [
        "model = Sequential([\n",
        "                    Dense(64, input_dim=28*28, activation = 'relu'),\n",
        "                    Dense(32, activation = 'relu'),\n",
        "                    Dense(10, activation= 'softmax')\n",
        "])\n",
        "\n",
        "model.compile(loss='categorical_crossentropy', optimizer='adam', metrics=['accuracy'])"
      ],
      "execution_count": 6,
      "outputs": []
    },
    {
      "cell_type": "code",
      "metadata": {
        "colab": {
          "base_uri": "https://localhost:8080/"
        },
        "id": "YeDWj55THter",
        "outputId": "2099a359-e594-4fb1-8ff7-131a30774de2"
      },
      "source": [
        "hist = model.fit(x_train, y_train,\n",
        "                 validation_split = 0.2, #전체 훈련셋의 20%를 검증셋, 나머지를 훈련셋으로 해 테스트\n",
        "                 batch_size=32,\n",
        "                 epochs=100)"
      ],
      "execution_count": 7,
      "outputs": [
        {
          "output_type": "stream",
          "text": [
            "Epoch 1/100\n",
            "1500/1500 [==============================] - 5s 3ms/step - loss: 0.3133 - accuracy: 0.9085 - val_loss: 0.1786 - val_accuracy: 0.9472\n",
            "Epoch 2/100\n",
            "1500/1500 [==============================] - 4s 2ms/step - loss: 0.1441 - accuracy: 0.9572 - val_loss: 0.1316 - val_accuracy: 0.9616\n",
            "Epoch 3/100\n",
            "1500/1500 [==============================] - 4s 2ms/step - loss: 0.1066 - accuracy: 0.9683 - val_loss: 0.1168 - val_accuracy: 0.9653\n",
            "Epoch 4/100\n",
            "1500/1500 [==============================] - 3s 2ms/step - loss: 0.0848 - accuracy: 0.9736 - val_loss: 0.1164 - val_accuracy: 0.9643\n",
            "Epoch 5/100\n",
            "1500/1500 [==============================] - 4s 3ms/step - loss: 0.0682 - accuracy: 0.9791 - val_loss: 0.1176 - val_accuracy: 0.9655\n",
            "Epoch 6/100\n",
            "1500/1500 [==============================] - 4s 2ms/step - loss: 0.0581 - accuracy: 0.9822 - val_loss: 0.1099 - val_accuracy: 0.9714\n",
            "Epoch 7/100\n",
            "1500/1500 [==============================] - 4s 2ms/step - loss: 0.0482 - accuracy: 0.9852 - val_loss: 0.1208 - val_accuracy: 0.9682\n",
            "Epoch 8/100\n",
            "1500/1500 [==============================] - 4s 2ms/step - loss: 0.0427 - accuracy: 0.9863 - val_loss: 0.1161 - val_accuracy: 0.9688\n",
            "Epoch 9/100\n",
            "1500/1500 [==============================] - 4s 3ms/step - loss: 0.0358 - accuracy: 0.9886 - val_loss: 0.1211 - val_accuracy: 0.9692\n",
            "Epoch 10/100\n",
            "1500/1500 [==============================] - 4s 3ms/step - loss: 0.0312 - accuracy: 0.9900 - val_loss: 0.1125 - val_accuracy: 0.9722\n",
            "Epoch 11/100\n",
            "1500/1500 [==============================] - 3s 2ms/step - loss: 0.0282 - accuracy: 0.9904 - val_loss: 0.1222 - val_accuracy: 0.9696\n",
            "Epoch 12/100\n",
            "1500/1500 [==============================] - 3s 2ms/step - loss: 0.0258 - accuracy: 0.9917 - val_loss: 0.1207 - val_accuracy: 0.9707\n",
            "Epoch 13/100\n",
            "1500/1500 [==============================] - 3s 2ms/step - loss: 0.0222 - accuracy: 0.9925 - val_loss: 0.1454 - val_accuracy: 0.9672\n",
            "Epoch 14/100\n",
            "1500/1500 [==============================] - 4s 3ms/step - loss: 0.0193 - accuracy: 0.9936 - val_loss: 0.1385 - val_accuracy: 0.9682\n",
            "Epoch 15/100\n",
            "1500/1500 [==============================] - 4s 3ms/step - loss: 0.0195 - accuracy: 0.9936 - val_loss: 0.1263 - val_accuracy: 0.9718\n",
            "Epoch 16/100\n",
            "1500/1500 [==============================] - 4s 3ms/step - loss: 0.0153 - accuracy: 0.9948 - val_loss: 0.1470 - val_accuracy: 0.9672\n",
            "Epoch 17/100\n",
            "1500/1500 [==============================] - 3s 2ms/step - loss: 0.0159 - accuracy: 0.9948 - val_loss: 0.1446 - val_accuracy: 0.9703\n",
            "Epoch 18/100\n",
            "1500/1500 [==============================] - 3s 2ms/step - loss: 0.0172 - accuracy: 0.9944 - val_loss: 0.1382 - val_accuracy: 0.9729\n",
            "Epoch 19/100\n",
            "1500/1500 [==============================] - 3s 2ms/step - loss: 0.0128 - accuracy: 0.9954 - val_loss: 0.1599 - val_accuracy: 0.9726\n",
            "Epoch 20/100\n",
            "1500/1500 [==============================] - 3s 2ms/step - loss: 0.0131 - accuracy: 0.9956 - val_loss: 0.1503 - val_accuracy: 0.9707\n",
            "Epoch 21/100\n",
            "1500/1500 [==============================] - 4s 3ms/step - loss: 0.0108 - accuracy: 0.9967 - val_loss: 0.1383 - val_accuracy: 0.9737\n",
            "Epoch 22/100\n",
            "1500/1500 [==============================] - 4s 2ms/step - loss: 0.0117 - accuracy: 0.9958 - val_loss: 0.1631 - val_accuracy: 0.9703\n",
            "Epoch 23/100\n",
            "1500/1500 [==============================] - 3s 2ms/step - loss: 0.0106 - accuracy: 0.9966 - val_loss: 0.1525 - val_accuracy: 0.9729\n",
            "Epoch 24/100\n",
            "1500/1500 [==============================] - 3s 2ms/step - loss: 0.0075 - accuracy: 0.9976 - val_loss: 0.1631 - val_accuracy: 0.9707\n",
            "Epoch 25/100\n",
            "1500/1500 [==============================] - 4s 2ms/step - loss: 0.0131 - accuracy: 0.9955 - val_loss: 0.1777 - val_accuracy: 0.9717\n",
            "Epoch 26/100\n",
            "1500/1500 [==============================] - 4s 2ms/step - loss: 0.0099 - accuracy: 0.9967 - val_loss: 0.1699 - val_accuracy: 0.9737\n",
            "Epoch 27/100\n",
            "1500/1500 [==============================] - 4s 2ms/step - loss: 0.0108 - accuracy: 0.9965 - val_loss: 0.1695 - val_accuracy: 0.9707\n",
            "Epoch 28/100\n",
            "1500/1500 [==============================] - 4s 2ms/step - loss: 0.0094 - accuracy: 0.9968 - val_loss: 0.1852 - val_accuracy: 0.9712\n",
            "Epoch 29/100\n",
            "1500/1500 [==============================] - 3s 2ms/step - loss: 0.0048 - accuracy: 0.9985 - val_loss: 0.1970 - val_accuracy: 0.9697\n",
            "Epoch 30/100\n",
            "1500/1500 [==============================] - 4s 2ms/step - loss: 0.0118 - accuracy: 0.9963 - val_loss: 0.1954 - val_accuracy: 0.9731\n",
            "Epoch 31/100\n",
            "1500/1500 [==============================] - 4s 2ms/step - loss: 0.0071 - accuracy: 0.9979 - val_loss: 0.1859 - val_accuracy: 0.9731\n",
            "Epoch 32/100\n",
            "1500/1500 [==============================] - 4s 2ms/step - loss: 0.0097 - accuracy: 0.9969 - val_loss: 0.1918 - val_accuracy: 0.9712\n",
            "Epoch 33/100\n",
            "1500/1500 [==============================] - 3s 2ms/step - loss: 0.0072 - accuracy: 0.9975 - val_loss: 0.1726 - val_accuracy: 0.9746\n",
            "Epoch 34/100\n",
            "1500/1500 [==============================] - 3s 2ms/step - loss: 0.0092 - accuracy: 0.9967 - val_loss: 0.1909 - val_accuracy: 0.9742\n",
            "Epoch 35/100\n",
            "1500/1500 [==============================] - 3s 2ms/step - loss: 0.0073 - accuracy: 0.9977 - val_loss: 0.2032 - val_accuracy: 0.9702\n",
            "Epoch 36/100\n",
            "1500/1500 [==============================] - 4s 2ms/step - loss: 0.0083 - accuracy: 0.9976 - val_loss: 0.2134 - val_accuracy: 0.9718\n",
            "Epoch 37/100\n",
            "1500/1500 [==============================] - 4s 3ms/step - loss: 0.0081 - accuracy: 0.9972 - val_loss: 0.2022 - val_accuracy: 0.9736\n",
            "Epoch 38/100\n",
            "1500/1500 [==============================] - 3s 2ms/step - loss: 0.0071 - accuracy: 0.9978 - val_loss: 0.2246 - val_accuracy: 0.9707\n",
            "Epoch 39/100\n",
            "1500/1500 [==============================] - 3s 2ms/step - loss: 0.0074 - accuracy: 0.9975 - val_loss: 0.2293 - val_accuracy: 0.9681\n",
            "Epoch 40/100\n",
            "1500/1500 [==============================] - 4s 2ms/step - loss: 0.0085 - accuracy: 0.9973 - val_loss: 0.2030 - val_accuracy: 0.9731\n",
            "Epoch 41/100\n",
            "1500/1500 [==============================] - 3s 2ms/step - loss: 0.0061 - accuracy: 0.9980 - val_loss: 0.1914 - val_accuracy: 0.9743\n",
            "Epoch 42/100\n",
            "1500/1500 [==============================] - 3s 2ms/step - loss: 0.0062 - accuracy: 0.9979 - val_loss: 0.1995 - val_accuracy: 0.9737\n",
            "Epoch 43/100\n",
            "1500/1500 [==============================] - 3s 2ms/step - loss: 0.0078 - accuracy: 0.9976 - val_loss: 0.2398 - val_accuracy: 0.9702\n",
            "Epoch 44/100\n",
            "1500/1500 [==============================] - 3s 2ms/step - loss: 0.0088 - accuracy: 0.9972 - val_loss: 0.1980 - val_accuracy: 0.9741\n",
            "Epoch 45/100\n",
            "1500/1500 [==============================] - 4s 2ms/step - loss: 0.0062 - accuracy: 0.9979 - val_loss: 0.2171 - val_accuracy: 0.9732\n",
            "Epoch 46/100\n",
            "1500/1500 [==============================] - 3s 2ms/step - loss: 0.0071 - accuracy: 0.9976 - val_loss: 0.2375 - val_accuracy: 0.9722\n",
            "Epoch 47/100\n",
            "1500/1500 [==============================] - 4s 2ms/step - loss: 0.0051 - accuracy: 0.9985 - val_loss: 0.2385 - val_accuracy: 0.9715\n",
            "Epoch 48/100\n",
            "1500/1500 [==============================] - 4s 3ms/step - loss: 0.0092 - accuracy: 0.9975 - val_loss: 0.2260 - val_accuracy: 0.9734\n",
            "Epoch 49/100\n",
            "1500/1500 [==============================] - 3s 2ms/step - loss: 0.0058 - accuracy: 0.9982 - val_loss: 0.2234 - val_accuracy: 0.9724\n",
            "Epoch 50/100\n",
            "1500/1500 [==============================] - 4s 2ms/step - loss: 0.0071 - accuracy: 0.9978 - val_loss: 0.2187 - val_accuracy: 0.9733\n",
            "Epoch 51/100\n",
            "1500/1500 [==============================] - 3s 2ms/step - loss: 0.0049 - accuracy: 0.9984 - val_loss: 0.2300 - val_accuracy: 0.9733\n",
            "Epoch 52/100\n",
            "1500/1500 [==============================] - 4s 3ms/step - loss: 0.0074 - accuracy: 0.9977 - val_loss: 0.2352 - val_accuracy: 0.9721\n",
            "Epoch 53/100\n",
            "1500/1500 [==============================] - 3s 2ms/step - loss: 0.0085 - accuracy: 0.9977 - val_loss: 0.2222 - val_accuracy: 0.9726\n",
            "Epoch 54/100\n",
            "1500/1500 [==============================] - 4s 2ms/step - loss: 0.0025 - accuracy: 0.9992 - val_loss: 0.2388 - val_accuracy: 0.9739\n",
            "Epoch 55/100\n",
            "1500/1500 [==============================] - 3s 2ms/step - loss: 0.0093 - accuracy: 0.9975 - val_loss: 0.2833 - val_accuracy: 0.9701\n",
            "Epoch 56/100\n",
            "1500/1500 [==============================] - 4s 2ms/step - loss: 0.0053 - accuracy: 0.9983 - val_loss: 0.2704 - val_accuracy: 0.9707\n",
            "Epoch 57/100\n",
            "1500/1500 [==============================] - 4s 3ms/step - loss: 0.0068 - accuracy: 0.9979 - val_loss: 0.2322 - val_accuracy: 0.9728\n",
            "Epoch 58/100\n",
            "1500/1500 [==============================] - 4s 3ms/step - loss: 0.0040 - accuracy: 0.9988 - val_loss: 0.2674 - val_accuracy: 0.9718\n",
            "Epoch 59/100\n",
            "1500/1500 [==============================] - 4s 3ms/step - loss: 0.0063 - accuracy: 0.9982 - val_loss: 0.2465 - val_accuracy: 0.9740\n",
            "Epoch 60/100\n",
            "1500/1500 [==============================] - 4s 3ms/step - loss: 0.0058 - accuracy: 0.9980 - val_loss: 0.2635 - val_accuracy: 0.9749\n",
            "Epoch 61/100\n",
            "1500/1500 [==============================] - 4s 2ms/step - loss: 0.0055 - accuracy: 0.9985 - val_loss: 0.2704 - val_accuracy: 0.9718\n",
            "Epoch 62/100\n",
            "1500/1500 [==============================] - 3s 2ms/step - loss: 0.0053 - accuracy: 0.9984 - val_loss: 0.2595 - val_accuracy: 0.9740\n",
            "Epoch 63/100\n",
            "1500/1500 [==============================] - 3s 2ms/step - loss: 0.0070 - accuracy: 0.9977 - val_loss: 0.2798 - val_accuracy: 0.9697\n",
            "Epoch 64/100\n",
            "1500/1500 [==============================] - 3s 2ms/step - loss: 0.0028 - accuracy: 0.9991 - val_loss: 0.2625 - val_accuracy: 0.9742\n",
            "Epoch 65/100\n",
            "1500/1500 [==============================] - 4s 2ms/step - loss: 0.0052 - accuracy: 0.9985 - val_loss: 0.3772 - val_accuracy: 0.9645\n",
            "Epoch 66/100\n",
            "1500/1500 [==============================] - 4s 2ms/step - loss: 0.0078 - accuracy: 0.9979 - val_loss: 0.2810 - val_accuracy: 0.9708\n",
            "Epoch 67/100\n",
            "1500/1500 [==============================] - 3s 2ms/step - loss: 0.0048 - accuracy: 0.9986 - val_loss: 0.2416 - val_accuracy: 0.9744\n",
            "Epoch 68/100\n",
            "1500/1500 [==============================] - 3s 2ms/step - loss: 0.0077 - accuracy: 0.9978 - val_loss: 0.2787 - val_accuracy: 0.9710\n",
            "Epoch 69/100\n",
            "1500/1500 [==============================] - 3s 2ms/step - loss: 0.0062 - accuracy: 0.9986 - val_loss: 0.2719 - val_accuracy: 0.9726\n",
            "Epoch 70/100\n",
            "1500/1500 [==============================] - 3s 2ms/step - loss: 0.0041 - accuracy: 0.9990 - val_loss: 0.3074 - val_accuracy: 0.9681\n",
            "Epoch 71/100\n",
            "1500/1500 [==============================] - 3s 2ms/step - loss: 0.0080 - accuracy: 0.9978 - val_loss: 0.2612 - val_accuracy: 0.9761\n",
            "Epoch 72/100\n",
            "1500/1500 [==============================] - 3s 2ms/step - loss: 0.0052 - accuracy: 0.9986 - val_loss: 0.2705 - val_accuracy: 0.9730\n",
            "Epoch 73/100\n",
            "1500/1500 [==============================] - 3s 2ms/step - loss: 0.0077 - accuracy: 0.9979 - val_loss: 0.2918 - val_accuracy: 0.9717\n",
            "Epoch 74/100\n",
            "1500/1500 [==============================] - 4s 3ms/step - loss: 0.0071 - accuracy: 0.9981 - val_loss: 0.2454 - val_accuracy: 0.9749\n",
            "Epoch 75/100\n",
            "1500/1500 [==============================] - 4s 2ms/step - loss: 0.0034 - accuracy: 0.9990 - val_loss: 0.2502 - val_accuracy: 0.9748\n",
            "Epoch 76/100\n",
            "1500/1500 [==============================] - 3s 2ms/step - loss: 0.0069 - accuracy: 0.9982 - val_loss: 0.2808 - val_accuracy: 0.9740\n",
            "Epoch 77/100\n",
            "1500/1500 [==============================] - 4s 2ms/step - loss: 0.0043 - accuracy: 0.9987 - val_loss: 0.2970 - val_accuracy: 0.9730\n",
            "Epoch 78/100\n",
            "1500/1500 [==============================] - 3s 2ms/step - loss: 0.0062 - accuracy: 0.9985 - val_loss: 0.2744 - val_accuracy: 0.9735\n",
            "Epoch 79/100\n",
            "1500/1500 [==============================] - 3s 2ms/step - loss: 0.0033 - accuracy: 0.9989 - val_loss: 0.3123 - val_accuracy: 0.9736\n",
            "Epoch 80/100\n",
            "1500/1500 [==============================] - 3s 2ms/step - loss: 0.0078 - accuracy: 0.9977 - val_loss: 0.3140 - val_accuracy: 0.9728\n",
            "Epoch 81/100\n",
            "1500/1500 [==============================] - 3s 2ms/step - loss: 0.0031 - accuracy: 0.9988 - val_loss: 0.3256 - val_accuracy: 0.9724\n",
            "Epoch 82/100\n",
            "1500/1500 [==============================] - 4s 2ms/step - loss: 0.0036 - accuracy: 0.9989 - val_loss: 0.3212 - val_accuracy: 0.9733\n",
            "Epoch 83/100\n",
            "1500/1500 [==============================] - 4s 2ms/step - loss: 0.0074 - accuracy: 0.9981 - val_loss: 0.3107 - val_accuracy: 0.9743\n",
            "Epoch 84/100\n",
            "1500/1500 [==============================] - 3s 2ms/step - loss: 0.0042 - accuracy: 0.9985 - val_loss: 0.3152 - val_accuracy: 0.9718\n",
            "Epoch 85/100\n",
            "1500/1500 [==============================] - 3s 2ms/step - loss: 0.0039 - accuracy: 0.9989 - val_loss: 0.3434 - val_accuracy: 0.9721\n",
            "Epoch 86/100\n",
            "1500/1500 [==============================] - 4s 2ms/step - loss: 0.0047 - accuracy: 0.9988 - val_loss: 0.2971 - val_accuracy: 0.9753\n",
            "Epoch 87/100\n",
            "1500/1500 [==============================] - 3s 2ms/step - loss: 0.0066 - accuracy: 0.9981 - val_loss: 0.3331 - val_accuracy: 0.9733\n",
            "Epoch 88/100\n",
            "1500/1500 [==============================] - 3s 2ms/step - loss: 0.0047 - accuracy: 0.9987 - val_loss: 0.3456 - val_accuracy: 0.9731\n",
            "Epoch 89/100\n",
            "1500/1500 [==============================] - 4s 2ms/step - loss: 0.0026 - accuracy: 0.9990 - val_loss: 0.3055 - val_accuracy: 0.9743\n",
            "Epoch 90/100\n",
            "1500/1500 [==============================] - 3s 2ms/step - loss: 0.0044 - accuracy: 0.9990 - val_loss: 0.3243 - val_accuracy: 0.9733\n",
            "Epoch 91/100\n",
            "1500/1500 [==============================] - 3s 2ms/step - loss: 0.0066 - accuracy: 0.9983 - val_loss: 0.3378 - val_accuracy: 0.9722\n",
            "Epoch 92/100\n",
            "1500/1500 [==============================] - 3s 2ms/step - loss: 0.0058 - accuracy: 0.9983 - val_loss: 0.3092 - val_accuracy: 0.9743\n",
            "Epoch 93/100\n",
            "1500/1500 [==============================] - 3s 2ms/step - loss: 0.0019 - accuracy: 0.9995 - val_loss: 0.3507 - val_accuracy: 0.9686\n",
            "Epoch 94/100\n",
            "1500/1500 [==============================] - 3s 2ms/step - loss: 0.0067 - accuracy: 0.9984 - val_loss: 0.3150 - val_accuracy: 0.9747\n",
            "Epoch 95/100\n",
            "1500/1500 [==============================] - 3s 2ms/step - loss: 0.0038 - accuracy: 0.9990 - val_loss: 0.3470 - val_accuracy: 0.9713\n",
            "Epoch 96/100\n",
            "1500/1500 [==============================] - 4s 2ms/step - loss: 0.0039 - accuracy: 0.9988 - val_loss: 0.3019 - val_accuracy: 0.9751\n",
            "Epoch 97/100\n",
            "1500/1500 [==============================] - 3s 2ms/step - loss: 0.0065 - accuracy: 0.9981 - val_loss: 0.3228 - val_accuracy: 0.9737\n",
            "Epoch 98/100\n",
            "1500/1500 [==============================] - 4s 2ms/step - loss: 0.0047 - accuracy: 0.9988 - val_loss: 0.3220 - val_accuracy: 0.9743\n",
            "Epoch 99/100\n",
            "1500/1500 [==============================] - 4s 2ms/step - loss: 0.0015 - accuracy: 0.9997 - val_loss: 0.3573 - val_accuracy: 0.9727\n",
            "Epoch 100/100\n",
            "1500/1500 [==============================] - 3s 2ms/step - loss: 0.0101 - accuracy: 0.9979 - val_loss: 0.3275 - val_accuracy: 0.9736\n"
          ],
          "name": "stdout"
        }
      ]
    },
    {
      "cell_type": "code",
      "metadata": {
        "colab": {
          "base_uri": "https://localhost:8080/",
          "height": 279
        },
        "id": "Rjqil_7NMt4g",
        "outputId": "4cfe828a-49c0-4c45-b272-1f9ea64e93db"
      },
      "source": [
        "fig, loss_ax = plt.subplots()\n",
        "\n",
        "acc_ax = loss_ax.twinx()\n",
        "\n",
        "loss_ax.plot(hist.history['loss'], 'y', label='train loss')\n",
        "loss_ax.plot(hist.history['val_loss'], 'r', label='val loss')\n",
        "acc_ax.plot(hist.history['accuracy'], 'g', label='train acc')\n",
        "acc_ax.plot(hist.history['val_accuracy'], 'b', label='val acc')\n",
        "\n",
        "loss_ax.set_xlabel('epoch')\n",
        "loss_ax.set_ylabel('loss')\n",
        "acc_ax.set_ylabel('accuracy')\n",
        "\n",
        "loss_ax.legend(loc='upper left')\n",
        "acc_ax.legend(loc='lower left')\n",
        "\n",
        "plt.show()"
      ],
      "execution_count": 9,
      "outputs": [
        {
          "output_type": "display_data",
          "data": {
            "image/png": "[encoded data removed]",
            "text/plain": [
              "<Figure size 432x288 with 2 Axes>"
            ]
          },
          "metadata": {
            "tags": [],
            "needs_background": "light"
          }
        }
      ]
    },
    {
      "cell_type": "code",
      "metadata": {
        "colab": {
          "base_uri": "https://localhost:8080/"
        },
        "id": "Db7VkKrAN1w7",
        "outputId": "273b2754-454a-470b-b40b-a128af6e2204"
      },
      "source": [
        "model = Sequential([\n",
        "                    Dense(64, input_dim=28*28, activation = 'relu'),\n",
        "                    Dense(32, activation = 'relu'),\n",
        "                    Dense(10, activation= 'softmax')\n",
        "])\n",
        "\n",
        "model.compile(loss='categorical_crossentropy', optimizer='adam', metrics=['accuracy'])\n",
        "\n",
        "checkpoint_callback = ModelCheckpoint(\"best_mode.h5\",\n",
        "                                      save_best_only=True,\n",
        "                                      monitor=\"val_loss\")\n",
        "hist = model.fit(x_train, y_train,\n",
        "                 validation_split=0.2,\n",
        "                 batch_size=32,\n",
        "                 epochs=20,\n",
        "                 callbacks=[checkpoint_callback])"
      ],
      "execution_count": 10,
      "outputs": [
        {
          "output_type": "stream",
          "text": [
            "Epoch 1/20\n",
            "1500/1500 [==============================] - 4s 2ms/step - loss: 0.3158 - accuracy: 0.9093 - val_loss: 0.1942 - val_accuracy: 0.9421\n",
            "Epoch 2/20\n",
            "1500/1500 [==============================] - 4s 2ms/step - loss: 0.1484 - accuracy: 0.9557 - val_loss: 0.1389 - val_accuracy: 0.9587\n",
            "Epoch 3/20\n",
            "1500/1500 [==============================] - 3s 2ms/step - loss: 0.1056 - accuracy: 0.9685 - val_loss: 0.1203 - val_accuracy: 0.9657\n",
            "Epoch 4/20\n",
            "1500/1500 [==============================] - 3s 2ms/step - loss: 0.0830 - accuracy: 0.9753 - val_loss: 0.1016 - val_accuracy: 0.9693\n",
            "Epoch 5/20\n",
            "1500/1500 [==============================] - 4s 2ms/step - loss: 0.0668 - accuracy: 0.9791 - val_loss: 0.1188 - val_accuracy: 0.9648\n",
            "Epoch 6/20\n",
            "1500/1500 [==============================] - 3s 2ms/step - loss: 0.0559 - accuracy: 0.9828 - val_loss: 0.0960 - val_accuracy: 0.9729\n",
            "Epoch 7/20\n",
            "1500/1500 [==============================] - 4s 2ms/step - loss: 0.0479 - accuracy: 0.9846 - val_loss: 0.1006 - val_accuracy: 0.9720\n",
            "Epoch 8/20\n",
            "1500/1500 [==============================] - 3s 2ms/step - loss: 0.0408 - accuracy: 0.9864 - val_loss: 0.0967 - val_accuracy: 0.9743\n",
            "Epoch 9/20\n",
            "1500/1500 [==============================] - 3s 2ms/step - loss: 0.0340 - accuracy: 0.9890 - val_loss: 0.1065 - val_accuracy: 0.9728\n",
            "Epoch 10/20\n",
            "1500/1500 [==============================] - 3s 2ms/step - loss: 0.0323 - accuracy: 0.9896 - val_loss: 0.1107 - val_accuracy: 0.9731\n",
            "Epoch 11/20\n",
            "1500/1500 [==============================] - 4s 2ms/step - loss: 0.0264 - accuracy: 0.9914 - val_loss: 0.1309 - val_accuracy: 0.9677\n",
            "Epoch 12/20\n",
            "1500/1500 [==============================] - 3s 2ms/step - loss: 0.0263 - accuracy: 0.9907 - val_loss: 0.1101 - val_accuracy: 0.9716\n",
            "Epoch 13/20\n",
            "1500/1500 [==============================] - 3s 2ms/step - loss: 0.0215 - accuracy: 0.9930 - val_loss: 0.1184 - val_accuracy: 0.9732\n",
            "Epoch 14/20\n",
            "1500/1500 [==============================] - 4s 2ms/step - loss: 0.0189 - accuracy: 0.9940 - val_loss: 0.1146 - val_accuracy: 0.9728\n",
            "Epoch 15/20\n",
            "1500/1500 [==============================] - 4s 2ms/step - loss: 0.0177 - accuracy: 0.9944 - val_loss: 0.1196 - val_accuracy: 0.9724\n",
            "Epoch 16/20\n",
            "1500/1500 [==============================] - 4s 2ms/step - loss: 0.0170 - accuracy: 0.9943 - val_loss: 0.1273 - val_accuracy: 0.9743\n",
            "Epoch 17/20\n",
            "1500/1500 [==============================] - 4s 2ms/step - loss: 0.0138 - accuracy: 0.9953 - val_loss: 0.1270 - val_accuracy: 0.9735\n",
            "Epoch 18/20\n",
            "1500/1500 [==============================] - 3s 2ms/step - loss: 0.0159 - accuracy: 0.9941 - val_loss: 0.1345 - val_accuracy: 0.9741\n",
            "Epoch 19/20\n",
            "1500/1500 [==============================] - 3s 2ms/step - loss: 0.0121 - accuracy: 0.9959 - val_loss: 0.1442 - val_accuracy: 0.9719\n",
            "Epoch 20/20\n",
            "1500/1500 [==============================] - 4s 2ms/step - loss: 0.0119 - accuracy: 0.9961 - val_loss: 0.1361 - val_accuracy: 0.9744\n"
          ],
          "name": "stdout"
        }
      ]
    },
    {
      "cell_type": "code",
      "metadata": {
        "colab": {
          "base_uri": "https://localhost:8080/"
        },
        "id": "96QsUVS_OndV",
        "outputId": "6f51fc02-f409-49d5-f8d7-86c81e4dd387"
      },
      "source": [
        "model = load_model('best_mode.h5')\n",
        "\n",
        "test_loss, test_acc = model.evaluate(x_test, y_test)\n",
        "\n",
        "print(\"Test accuracy\", test_acc)\n",
        "print(\"Test loss\", test_loss)"
      ],
      "execution_count": 13,
      "outputs": [
        {
          "output_type": "stream",
          "text": [
            "313/313 [==============================] - 1s 1ms/step - loss: 0.0889 - accuracy: 0.9745\n",
            "Test accuracy 0.9745000004768372\n",
            "Test loss 0.08894908428192139\n"
          ],
          "name": "stdout"
        }
      ]
    },
    {
      "cell_type": "code",
      "metadata": {
        "id": "gKWVwnYSO_K6"
      },
      "source": [
        "y_pred = model.predict(x_test)\n",
        "y_pred = y_pred.argmax(axis=-1)\n",
        "np.savetxt('y_pred.csv', y_pred, fmt='%d')"
      ],
      "execution_count": 14,
      "outputs": []
    }
  ]
}