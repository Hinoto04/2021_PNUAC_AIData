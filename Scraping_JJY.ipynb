{
  "nbformat": 4,
  "nbformat_minor": 0,
  "metadata": {
    "colab": {
      "name": "Scraping.ipynb",
      "provenance": [],
      "include_colab_link": true
    },
    "kernelspec": {
      "name": "python3",
      "display_name": "Python 3"
    },
    "language_info": {
      "name": "python"
    }
  },
  "cells": [
    {
      "cell_type": "markdown",
      "metadata": {
        "id": "view-in-github",
        "colab_type": "text"
      },
      "source": [
        "<a href=\"https://colab.research.google.com/github/Hinoto04/2021_PNUAC_AIData/blob/main/Scraping_JJY.ipynb\" target=\"_parent\"><img src=\"https://colab.research.google.com/assets/colab-badge.svg\" alt=\"Open In Colab\"/></a>"
      ]
    },
    {
      "cell_type": "markdown",
      "metadata": {
        "id": "4TflfuYmLvid"
      },
      "source": [
        "6팀\n",
        "\n",
        "주제: \n",
        "\n",
        "주제선정동기: \n",
        "\n",
        "수집자료: \n",
        "\n",
        "\n"
      ]
    },
    {
      "cell_type": "code",
      "metadata": {
        "id": "mW2IDG9Lav1v",
        "outputId": "e7e3cc6e-acbd-4d0d-8617-29b5a2e82e56",
        "colab": {
          "base_uri": "https://localhost:8080/"
        }
      },
      "source": [
        "!pip install selenium\n",
        "!apt-get update\n",
        "!apt install chromium-chromedriver"
      ],
      "execution_count": 6,
      "outputs": [
        {
          "output_type": "stream",
          "text": [
            "Requirement already satisfied: selenium in /usr/local/lib/python3.7/dist-packages (3.141.0)\n",
            "Requirement already satisfied: urllib3 in /usr/local/lib/python3.7/dist-packages (from selenium) (1.24.3)\n",
            "Get:1 https://cloud.r-project.org/bin/linux/ubuntu bionic-cran40/ InRelease [3,626 B]\n",
            "Ign:2 https://developer.download.nvidia.com/compute/cuda/repos/ubuntu1804/x86_64  InRelease\n",
            "Get:3 http://security.ubuntu.com/ubuntu bionic-security InRelease [88.7 kB]\n",
            "Ign:4 https://developer.download.nvidia.com/compute/machine-learning/repos/ubuntu1804/x86_64  InRelease\n",
            "Get:5 https://developer.download.nvidia.com/compute/cuda/repos/ubuntu1804/x86_64  Release [697 B]\n",
            "Hit:6 https://developer.download.nvidia.com/compute/machine-learning/repos/ubuntu1804/x86_64  Release\n",
            "Get:7 https://developer.download.nvidia.com/compute/cuda/repos/ubuntu1804/x86_64  Release.gpg [836 B]\n",
            "Get:8 http://ppa.launchpad.net/c2d4u.team/c2d4u4.0+/ubuntu bionic InRelease [15.9 kB]\n",
            "Hit:9 http://archive.ubuntu.com/ubuntu bionic InRelease\n",
            "Get:10 https://cloud.r-project.org/bin/linux/ubuntu bionic-cran40/ Packages [62.2 kB]\n",
            "Get:11 http://archive.ubuntu.com/ubuntu bionic-updates InRelease [88.7 kB]\n",
            "Hit:12 http://ppa.launchpad.net/cran/libgit2/ubuntu bionic InRelease\n",
            "Get:14 http://ppa.launchpad.net/deadsnakes/ppa/ubuntu bionic InRelease [15.9 kB]\n",
            "Ign:15 https://developer.download.nvidia.com/compute/cuda/repos/ubuntu1804/x86_64  Packages\n",
            "Get:15 https://developer.download.nvidia.com/compute/cuda/repos/ubuntu1804/x86_64  Packages [637 kB]\n",
            "Get:16 http://archive.ubuntu.com/ubuntu bionic-backports InRelease [74.6 kB]\n",
            "Get:17 http://security.ubuntu.com/ubuntu bionic-security/universe amd64 Packages [1,418 kB]\n",
            "Hit:18 http://ppa.launchpad.net/graphics-drivers/ppa/ubuntu bionic InRelease\n",
            "Get:19 http://ppa.launchpad.net/c2d4u.team/c2d4u4.0+/ubuntu bionic/main Sources [1,780 kB]\n",
            "Get:20 http://security.ubuntu.com/ubuntu bionic-security/main amd64 Packages [2,221 kB]\n",
            "Get:21 http://archive.ubuntu.com/ubuntu bionic-updates/main amd64 Packages [2,658 kB]\n",
            "Get:22 http://ppa.launchpad.net/c2d4u.team/c2d4u4.0+/ubuntu bionic/main amd64 Packages [910 kB]\n",
            "Get:23 http://archive.ubuntu.com/ubuntu bionic-updates/universe amd64 Packages [2,188 kB]\n",
            "Get:24 http://ppa.launchpad.net/deadsnakes/ppa/ubuntu bionic/main amd64 Packages [40.8 kB]\n",
            "Fetched 12.2 MB in 4s (2,799 kB/s)\n",
            "Reading package lists... Done\n",
            "Reading package lists... Done\n",
            "Building dependency tree       \n",
            "Reading state information... Done\n",
            "The following additional packages will be installed:\n",
            "  chromium-browser chromium-browser-l10n chromium-codecs-ffmpeg-extra\n",
            "Suggested packages:\n",
            "  webaccounts-chromium-extension unity-chromium-extension\n",
            "The following NEW packages will be installed:\n",
            "  chromium-browser chromium-browser-l10n chromium-chromedriver\n",
            "  chromium-codecs-ffmpeg-extra\n",
            "0 upgraded, 4 newly installed, 0 to remove and 58 not upgraded.\n",
            "Need to get 86.0 MB of archives.\n",
            "After this operation, 298 MB of additional disk space will be used.\n",
            "Get:1 http://archive.ubuntu.com/ubuntu bionic-updates/universe amd64 chromium-codecs-ffmpeg-extra amd64 91.0.4472.101-0ubuntu0.18.04.1 [1,124 kB]\n",
            "Get:2 http://archive.ubuntu.com/ubuntu bionic-updates/universe amd64 chromium-browser amd64 91.0.4472.101-0ubuntu0.18.04.1 [76.1 MB]\n",
            "Get:3 http://archive.ubuntu.com/ubuntu bionic-updates/universe amd64 chromium-browser-l10n all 91.0.4472.101-0ubuntu0.18.04.1 [3,937 kB]\n",
            "Get:4 http://archive.ubuntu.com/ubuntu bionic-updates/universe amd64 chromium-chromedriver amd64 91.0.4472.101-0ubuntu0.18.04.1 [4,837 kB]\n",
            "Fetched 86.0 MB in 6s (15.4 MB/s)\n",
            "Selecting previously unselected package chromium-codecs-ffmpeg-extra.\n",
            "(Reading database ... 160815 files and directories currently installed.)\n",
            "Preparing to unpack .../chromium-codecs-ffmpeg-extra_91.0.4472.101-0ubuntu0.18.04.1_amd64.deb ...\n",
            "Unpacking chromium-codecs-ffmpeg-extra (91.0.4472.101-0ubuntu0.18.04.1) ...\n",
            "Selecting previously unselected package chromium-browser.\n",
            "Preparing to unpack .../chromium-browser_91.0.4472.101-0ubuntu0.18.04.1_amd64.deb ...\n",
            "Unpacking chromium-browser (91.0.4472.101-0ubuntu0.18.04.1) ...\n",
            "Selecting previously unselected package chromium-browser-l10n.\n",
            "Preparing to unpack .../chromium-browser-l10n_91.0.4472.101-0ubuntu0.18.04.1_all.deb ...\n",
            "Unpacking chromium-browser-l10n (91.0.4472.101-0ubuntu0.18.04.1) ...\n",
            "Selecting previously unselected package chromium-chromedriver.\n",
            "Preparing to unpack .../chromium-chromedriver_91.0.4472.101-0ubuntu0.18.04.1_amd64.deb ...\n",
            "Unpacking chromium-chromedriver (91.0.4472.101-0ubuntu0.18.04.1) ...\n",
            "Setting up chromium-codecs-ffmpeg-extra (91.0.4472.101-0ubuntu0.18.04.1) ...\n",
            "Setting up chromium-browser (91.0.4472.101-0ubuntu0.18.04.1) ...\n",
            "update-alternatives: using /usr/bin/chromium-browser to provide /usr/bin/x-www-browser (x-www-browser) in auto mode\n",
            "update-alternatives: using /usr/bin/chromium-browser to provide /usr/bin/gnome-www-browser (gnome-www-browser) in auto mode\n",
            "Setting up chromium-chromedriver (91.0.4472.101-0ubuntu0.18.04.1) ...\n",
            "Setting up chromium-browser-l10n (91.0.4472.101-0ubuntu0.18.04.1) ...\n",
            "Processing triggers for man-db (2.8.3-2ubuntu0.1) ...\n",
            "Processing triggers for hicolor-icon-theme (0.17-2) ...\n",
            "Processing triggers for mime-support (3.60ubuntu1) ...\n",
            "Processing triggers for libc-bin (2.27-3ubuntu1.2) ...\n",
            "/sbin/ldconfig.real: /usr/local/lib/python3.7/dist-packages/ideep4py/lib/libmkldnn.so.0 is not a symbolic link\n",
            "\n"
          ],
          "name": "stdout"
        }
      ]
    },
    {
      "cell_type": "code",
      "metadata": {
        "id": "DcfoH86ta4Xt",
        "outputId": "979c2ddc-66a3-4856-b102-9b2481a7f2ea",
        "colab": {
          "base_uri": "https://localhost:8080/"
        }
      },
      "source": [
        "from google.colab import drive\n",
        "drive.mount('/content/drive')"
      ],
      "execution_count": 4,
      "outputs": [
        {
          "output_type": "stream",
          "text": [
            "Mounted at /content/drive\n"
          ],
          "name": "stdout"
        }
      ]
    },
    {
      "cell_type": "code",
      "metadata": {
        "id": "ktnvYG05aNFg"
      },
      "source": [
        "import requests\n",
        "from bs4 import BeautifulSoup as bs\n",
        "from selenium import webdriver\n",
        "import time\n"
      ],
      "execution_count": 11,
      "outputs": []
    },
    {
      "cell_type": "code",
      "metadata": {
        "id": "jwdX3CQ9bT3Y",
        "outputId": "0b7e52bc-d880-45ed-96c6-fb9dec16e5a1",
        "colab": {
          "base_uri": "https://localhost:8080/"
        }
      },
      "source": [
        "#driver = webdriver.Chrome('/content/drive/MyDrive/PNU AI 아카데미/chromedriver')\n",
        "chrome_options = webdriver.ChromeOptions()\n",
        "chrome_options.add_argument('--headless')\n",
        "chrome_options.add_argument('--no-sandbox')\n",
        "chrome_options.add_argument('--disable-dev-shm-usage')\n",
        "driver = webdriver.Chrome('chromedriver', chrome_options=chrome_options)\n",
        "driver.get('https://www.kbs.co.kr/programlist/')\n",
        "programBtn = driver.find_element_by_css_selector('#gnb_programlist_btn')\n",
        "programBtn.click()\n",
        "time.sleep(1)\n",
        "print(driver.current_url)\n"
      ],
      "execution_count": 28,
      "outputs": [
        {
          "output_type": "stream",
          "text": [
            "/usr/local/lib/python3.7/dist-packages/ipykernel_launcher.py:6: DeprecationWarning: use options instead of chrome_options\n",
            "  \n"
          ],
          "name": "stderr"
        },
        {
          "output_type": "stream",
          "text": [
            "https://www.kbs.co.kr/programlist/\n"
          ],
          "name": "stdout"
        }
      ]
    },
    {
      "cell_type": "code",
      "metadata": {
        "id": "IebMPXM-ews9",
        "outputId": "2a3ff57f-6216-4956-8b88-b8cbeadd876d",
        "colab": {
          "base_uri": "https://localhost:8080/",
          "height": 721
        }
      },
      "source": [
        "programs = []\n",
        "\n",
        "chrome_options = webdriver.ChromeOptions()\n",
        "chrome_options.add_argument('--headless')\n",
        "chrome_options.add_argument('--no-sandbox')\n",
        "chrome_options.add_argument('--disable-dev-shm-usage')\n",
        "driver = webdriver.Chrome('chromedriver', chrome_options=chrome_options)\n",
        "driver.get('https://www.kbs.co.kr/programlist/')\n",
        "programBtn = driver.find_element_by_css_selector('#gnb_programlist_btn')\n",
        "programBtn.click()\n",
        "time.sleep(1)\n",
        "#print(driver.current_url)\n",
        "\n",
        "genreList = driver.find_elements_by_css_selector('#content > div > div > div.sitemap-area > dl')\n",
        "for genre in genreList[:3]:\n",
        "  genreName = genre.find_element_by_css_selector('dt > a > span').text\n",
        "  #print(genreName)\n",
        "  proList = genre.find_elements_by_css_selector('dd > ul > li > a')\n",
        "  for pro in proList:\n",
        "    programs.append(pro.text)\n",
        "\n",
        "for pro in programs:\n",
        "  driver.get(f'https://search.naver.com/search.naver?where=nexearch&sm=top_hty&fbm=1&ie=utf8&query={pro}')\n",
        "  #print(driver.current_url)\n",
        "  try:\n",
        "    proInfo = driver.find_element_by_css_selector('#main_pack > div._kgs_broadcast')\n",
        "  except:\n",
        "    print('정보 없음')\n",
        "  else:\n",
        "    genre = proInfo.find_element_by_css_selector('div.cm_top_wrap._sticky._custom_select > div.title_area._title_area > div.sub_title > span > a').text\n",
        "    age = proInfo.find_element_by_css_selector('div.cm_top_wrap._sticky._custom_select > div.title_area._title_area > div.sub_title > span:nth-child(3)').text\n",
        "    details = proInfo.find_elements_by_css_selector('div.cm_content_wrap > div.cm_content_area._scroll_mover \\\n",
        "    > div.cm_info_box > div.detail_info > dl > div.info_group')\n",
        "    info = {'장르':genre, '관람가':age, '편성':'', '시청률':''}\n",
        "    for detail in details:\n",
        "      span = detail.find_element_by_css_selector('dt').text\n",
        "      if span == '편성':\n",
        "        for i in detail.find_elements_by_css_selector('dd > span.text'):\n",
        "          info[span] += i.text\n",
        "      if span == '시청률':\n",
        "        info[span] = detail.find_element_by_css_selector('dd > em').text\n",
        "    print('KBS', pro, genre, info)\n",
        "\n",
        "\n",
        "\n"
      ],
      "execution_count": 40,
      "outputs": [
        {
          "output_type": "stream",
          "text": [
            "/usr/local/lib/python3.7/dist-packages/ipykernel_launcher.py:7: DeprecationWarning: use options instead of chrome_options\n",
            "  import sys\n"
          ],
          "name": "stderr"
        },
        {
          "output_type": "stream",
          "text": [
            "https://www.kbs.co.kr/programlist/\n",
            "KBS 디어엠 드라마 {'장르': '드라마', '관람가': '15세이상', '편성': '2021. ~', '시청률': ''}\n",
            "KBS 멀리서 보면 푸른 봄 드라마 {'장르': '드라마', '관람가': '15세이상', '편성': '2021.06.14. ~(월, 화) 오후 09:30', '시청률': '2.2%'}\n",
            "KBS 미스 몬테크리스토 드라마 {'장르': '드라마', '관람가': '15세이상', '편성': '2021.02.15. ~ 2021.07.02. 100부작(월~금) 오후 07:50', '시청률': '15.9%'}\n",
            "KBS 빨강 구두 드라마 {'장르': '드라마', '관람가': '15세이상', '편성': '2021.07.05. ~(월~금) 오후 07:50', '시청률': '11.6%'}\n",
            "KBS 속아도 꿈결 드라마 {'장르': '드라마', '관람가': '15세이상', '편성': '2021.03.29. ~(월~금) 오후 08:30', '시청률': '11.9%'}\n",
            "KBS 오케이 광자매 드라마 {'장르': '드라마', '관람가': '15세이상', '편성': '2021.03.13. ~(토, 일) 오후 07:55', '시청률': '27.0%'}\n",
            "KBS 이미테이션 드라마 {'장르': '드라마', '관람가': '15세이상', '편성': '2021.05.07. ~(금) 오후 11:20', '시청률': '1.0%'}\n",
            "KBS 1박 2일 예능 {'장르': '예능', '관람가': '15세이상', '편성': '2019.12.08. ~(일) 오후 06:30', '시청률': '10.5%'}\n",
            "정보 없음\n",
            "정보 없음\n",
            "정보 없음\n"
          ],
          "name": "stdout"
        },
        {
          "output_type": "error",
          "ename": "NoSuchElementException",
          "evalue": "ignored",
          "traceback": [
            "\u001b[0;31m---------------------------------------------------------------------------\u001b[0m",
            "\u001b[0;31mNoSuchElementException\u001b[0m                    Traceback (most recent call last)",
            "\u001b[0;32m<ipython-input-40-196f2b66d0f6>\u001b[0m in \u001b[0;36m<module>\u001b[0;34m()\u001b[0m\n\u001b[1;32m     29\u001b[0m   \u001b[0;32melse\u001b[0m\u001b[0;34m:\u001b[0m\u001b[0;34m\u001b[0m\u001b[0;34m\u001b[0m\u001b[0m\n\u001b[1;32m     30\u001b[0m     \u001b[0;32mif\u001b[0m \u001b[0mproInfo\u001b[0m\u001b[0;34m:\u001b[0m\u001b[0;34m\u001b[0m\u001b[0;34m\u001b[0m\u001b[0m\n\u001b[0;32m---> 31\u001b[0;31m       \u001b[0mgenre\u001b[0m \u001b[0;34m=\u001b[0m \u001b[0mproInfo\u001b[0m\u001b[0;34m.\u001b[0m\u001b[0mfind_element_by_css_selector\u001b[0m\u001b[0;34m(\u001b[0m\u001b[0;34m'div.cm_top_wrap._sticky._custom_select > div.title_area._title_area > div.sub_title > span > a'\u001b[0m\u001b[0;34m)\u001b[0m\u001b[0;34m.\u001b[0m\u001b[0mtext\u001b[0m\u001b[0;34m\u001b[0m\u001b[0;34m\u001b[0m\u001b[0m\n\u001b[0m\u001b[1;32m     32\u001b[0m       \u001b[0mage\u001b[0m \u001b[0;34m=\u001b[0m \u001b[0mproInfo\u001b[0m\u001b[0;34m.\u001b[0m\u001b[0mfind_element_by_css_selector\u001b[0m\u001b[0;34m(\u001b[0m\u001b[0;34m'div.cm_top_wrap._sticky._custom_select > div.title_area._title_area > div.sub_title > span:nth-child(3)'\u001b[0m\u001b[0;34m)\u001b[0m\u001b[0;34m.\u001b[0m\u001b[0mtext\u001b[0m\u001b[0;34m\u001b[0m\u001b[0;34m\u001b[0m\u001b[0m\n\u001b[1;32m     33\u001b[0m       \u001b[0mdetails\u001b[0m \u001b[0;34m=\u001b[0m \u001b[0mproInfo\u001b[0m\u001b[0;34m.\u001b[0m\u001b[0mfind_elements_by_css_selector\u001b[0m\u001b[0;34m(\u001b[0m\u001b[0;34m'div.cm_content_wrap > div.cm_content_area._scroll_mover       > div.cm_info_box > div.detail_info > dl > div.info_group'\u001b[0m\u001b[0;34m)\u001b[0m\u001b[0;34m\u001b[0m\u001b[0;34m\u001b[0m\u001b[0m\n",
            "\u001b[0;32m/usr/local/lib/python3.7/dist-packages/selenium/webdriver/remote/webelement.py\u001b[0m in \u001b[0;36mfind_element_by_css_selector\u001b[0;34m(self, css_selector)\u001b[0m\n\u001b[1;32m    428\u001b[0m             \u001b[0melement\u001b[0m \u001b[0;34m=\u001b[0m \u001b[0melement\u001b[0m\u001b[0;34m.\u001b[0m\u001b[0mfind_element_by_css_selector\u001b[0m\u001b[0;34m(\u001b[0m\u001b[0;34m'#foo'\u001b[0m\u001b[0;34m)\u001b[0m\u001b[0;34m\u001b[0m\u001b[0;34m\u001b[0m\u001b[0m\n\u001b[1;32m    429\u001b[0m         \"\"\"\n\u001b[0;32m--> 430\u001b[0;31m         \u001b[0;32mreturn\u001b[0m \u001b[0mself\u001b[0m\u001b[0;34m.\u001b[0m\u001b[0mfind_element\u001b[0m\u001b[0;34m(\u001b[0m\u001b[0mby\u001b[0m\u001b[0;34m=\u001b[0m\u001b[0mBy\u001b[0m\u001b[0;34m.\u001b[0m\u001b[0mCSS_SELECTOR\u001b[0m\u001b[0;34m,\u001b[0m \u001b[0mvalue\u001b[0m\u001b[0;34m=\u001b[0m\u001b[0mcss_selector\u001b[0m\u001b[0;34m)\u001b[0m\u001b[0;34m\u001b[0m\u001b[0;34m\u001b[0m\u001b[0m\n\u001b[0m\u001b[1;32m    431\u001b[0m \u001b[0;34m\u001b[0m\u001b[0m\n\u001b[1;32m    432\u001b[0m     \u001b[0;32mdef\u001b[0m \u001b[0mfind_elements_by_css_selector\u001b[0m\u001b[0;34m(\u001b[0m\u001b[0mself\u001b[0m\u001b[0;34m,\u001b[0m \u001b[0mcss_selector\u001b[0m\u001b[0;34m)\u001b[0m\u001b[0;34m:\u001b[0m\u001b[0;34m\u001b[0m\u001b[0;34m\u001b[0m\u001b[0m\n",
            "\u001b[0;32m/usr/local/lib/python3.7/dist-packages/selenium/webdriver/remote/webelement.py\u001b[0m in \u001b[0;36mfind_element\u001b[0;34m(self, by, value)\u001b[0m\n\u001b[1;32m    657\u001b[0m \u001b[0;34m\u001b[0m\u001b[0m\n\u001b[1;32m    658\u001b[0m         return self._execute(Command.FIND_CHILD_ELEMENT,\n\u001b[0;32m--> 659\u001b[0;31m                              {\"using\": by, \"value\": value})['value']\n\u001b[0m\u001b[1;32m    660\u001b[0m \u001b[0;34m\u001b[0m\u001b[0m\n\u001b[1;32m    661\u001b[0m     \u001b[0;32mdef\u001b[0m \u001b[0mfind_elements\u001b[0m\u001b[0;34m(\u001b[0m\u001b[0mself\u001b[0m\u001b[0;34m,\u001b[0m \u001b[0mby\u001b[0m\u001b[0;34m=\u001b[0m\u001b[0mBy\u001b[0m\u001b[0;34m.\u001b[0m\u001b[0mID\u001b[0m\u001b[0;34m,\u001b[0m \u001b[0mvalue\u001b[0m\u001b[0;34m=\u001b[0m\u001b[0;32mNone\u001b[0m\u001b[0;34m)\u001b[0m\u001b[0;34m:\u001b[0m\u001b[0;34m\u001b[0m\u001b[0;34m\u001b[0m\u001b[0m\n",
            "\u001b[0;32m/usr/local/lib/python3.7/dist-packages/selenium/webdriver/remote/webelement.py\u001b[0m in \u001b[0;36m_execute\u001b[0;34m(self, command, params)\u001b[0m\n\u001b[1;32m    631\u001b[0m             \u001b[0mparams\u001b[0m \u001b[0;34m=\u001b[0m \u001b[0;34m{\u001b[0m\u001b[0;34m}\u001b[0m\u001b[0;34m\u001b[0m\u001b[0;34m\u001b[0m\u001b[0m\n\u001b[1;32m    632\u001b[0m         \u001b[0mparams\u001b[0m\u001b[0;34m[\u001b[0m\u001b[0;34m'id'\u001b[0m\u001b[0;34m]\u001b[0m \u001b[0;34m=\u001b[0m \u001b[0mself\u001b[0m\u001b[0;34m.\u001b[0m\u001b[0m_id\u001b[0m\u001b[0;34m\u001b[0m\u001b[0;34m\u001b[0m\u001b[0m\n\u001b[0;32m--> 633\u001b[0;31m         \u001b[0;32mreturn\u001b[0m \u001b[0mself\u001b[0m\u001b[0;34m.\u001b[0m\u001b[0m_parent\u001b[0m\u001b[0;34m.\u001b[0m\u001b[0mexecute\u001b[0m\u001b[0;34m(\u001b[0m\u001b[0mcommand\u001b[0m\u001b[0;34m,\u001b[0m \u001b[0mparams\u001b[0m\u001b[0;34m)\u001b[0m\u001b[0;34m\u001b[0m\u001b[0;34m\u001b[0m\u001b[0m\n\u001b[0m\u001b[1;32m    634\u001b[0m \u001b[0;34m\u001b[0m\u001b[0m\n\u001b[1;32m    635\u001b[0m     \u001b[0;32mdef\u001b[0m \u001b[0mfind_element\u001b[0m\u001b[0;34m(\u001b[0m\u001b[0mself\u001b[0m\u001b[0;34m,\u001b[0m \u001b[0mby\u001b[0m\u001b[0;34m=\u001b[0m\u001b[0mBy\u001b[0m\u001b[0;34m.\u001b[0m\u001b[0mID\u001b[0m\u001b[0;34m,\u001b[0m \u001b[0mvalue\u001b[0m\u001b[0;34m=\u001b[0m\u001b[0;32mNone\u001b[0m\u001b[0;34m)\u001b[0m\u001b[0;34m:\u001b[0m\u001b[0;34m\u001b[0m\u001b[0;34m\u001b[0m\u001b[0m\n",
            "\u001b[0;32m/usr/local/lib/python3.7/dist-packages/selenium/webdriver/remote/webdriver.py\u001b[0m in \u001b[0;36mexecute\u001b[0;34m(self, driver_command, params)\u001b[0m\n\u001b[1;32m    319\u001b[0m         \u001b[0mresponse\u001b[0m \u001b[0;34m=\u001b[0m \u001b[0mself\u001b[0m\u001b[0;34m.\u001b[0m\u001b[0mcommand_executor\u001b[0m\u001b[0;34m.\u001b[0m\u001b[0mexecute\u001b[0m\u001b[0;34m(\u001b[0m\u001b[0mdriver_command\u001b[0m\u001b[0;34m,\u001b[0m \u001b[0mparams\u001b[0m\u001b[0;34m)\u001b[0m\u001b[0;34m\u001b[0m\u001b[0;34m\u001b[0m\u001b[0m\n\u001b[1;32m    320\u001b[0m         \u001b[0;32mif\u001b[0m \u001b[0mresponse\u001b[0m\u001b[0;34m:\u001b[0m\u001b[0;34m\u001b[0m\u001b[0;34m\u001b[0m\u001b[0m\n\u001b[0;32m--> 321\u001b[0;31m             \u001b[0mself\u001b[0m\u001b[0;34m.\u001b[0m\u001b[0merror_handler\u001b[0m\u001b[0;34m.\u001b[0m\u001b[0mcheck_response\u001b[0m\u001b[0;34m(\u001b[0m\u001b[0mresponse\u001b[0m\u001b[0;34m)\u001b[0m\u001b[0;34m\u001b[0m\u001b[0;34m\u001b[0m\u001b[0m\n\u001b[0m\u001b[1;32m    322\u001b[0m             response['value'] = self._unwrap_value(\n\u001b[1;32m    323\u001b[0m                 response.get('value', None))\n",
            "\u001b[0;32m/usr/local/lib/python3.7/dist-packages/selenium/webdriver/remote/errorhandler.py\u001b[0m in \u001b[0;36mcheck_response\u001b[0;34m(self, response)\u001b[0m\n\u001b[1;32m    240\u001b[0m                 \u001b[0malert_text\u001b[0m \u001b[0;34m=\u001b[0m \u001b[0mvalue\u001b[0m\u001b[0;34m[\u001b[0m\u001b[0;34m'alert'\u001b[0m\u001b[0;34m]\u001b[0m\u001b[0;34m.\u001b[0m\u001b[0mget\u001b[0m\u001b[0;34m(\u001b[0m\u001b[0;34m'text'\u001b[0m\u001b[0;34m)\u001b[0m\u001b[0;34m\u001b[0m\u001b[0;34m\u001b[0m\u001b[0m\n\u001b[1;32m    241\u001b[0m             \u001b[0;32mraise\u001b[0m \u001b[0mexception_class\u001b[0m\u001b[0;34m(\u001b[0m\u001b[0mmessage\u001b[0m\u001b[0;34m,\u001b[0m \u001b[0mscreen\u001b[0m\u001b[0;34m,\u001b[0m \u001b[0mstacktrace\u001b[0m\u001b[0;34m,\u001b[0m \u001b[0malert_text\u001b[0m\u001b[0;34m)\u001b[0m\u001b[0;34m\u001b[0m\u001b[0;34m\u001b[0m\u001b[0m\n\u001b[0;32m--> 242\u001b[0;31m         \u001b[0;32mraise\u001b[0m \u001b[0mexception_class\u001b[0m\u001b[0;34m(\u001b[0m\u001b[0mmessage\u001b[0m\u001b[0;34m,\u001b[0m \u001b[0mscreen\u001b[0m\u001b[0;34m,\u001b[0m \u001b[0mstacktrace\u001b[0m\u001b[0;34m)\u001b[0m\u001b[0;34m\u001b[0m\u001b[0;34m\u001b[0m\u001b[0m\n\u001b[0m\u001b[1;32m    243\u001b[0m \u001b[0;34m\u001b[0m\u001b[0m\n\u001b[1;32m    244\u001b[0m     \u001b[0;32mdef\u001b[0m \u001b[0m_value_or_default\u001b[0m\u001b[0;34m(\u001b[0m\u001b[0mself\u001b[0m\u001b[0;34m,\u001b[0m \u001b[0mobj\u001b[0m\u001b[0;34m,\u001b[0m \u001b[0mkey\u001b[0m\u001b[0;34m,\u001b[0m \u001b[0mdefault\u001b[0m\u001b[0;34m)\u001b[0m\u001b[0;34m:\u001b[0m\u001b[0;34m\u001b[0m\u001b[0;34m\u001b[0m\u001b[0m\n",
            "\u001b[0;31mNoSuchElementException\u001b[0m: Message: no such element: Unable to locate element: {\"method\":\"css selector\",\"selector\":\"div.cm_top_wrap._sticky._custom_select > div.title_area._title_area > div.sub_title > span > a\"}\n  (Session info: headless chrome=91.0.4472.101)\n"
          ]
        }
      ]
    },
    {
      "cell_type": "code",
      "metadata": {
        "id": "x56aHK9OcNvi",
        "colab": {
          "base_uri": "https://localhost:8080/"
        },
        "outputId": "0387d29c-da12-4544-d765-72b313debb02"
      },
      "source": [
        "#kbs\n",
        "url = 'https://www.kbs.co.kr/programlist/'\n",
        "selector = '#content > div > div > div.sitemap-area > dl'\n",
        "html = bs(requests.get(url).text.replace(' ', ''), 'html.parser')\n",
        "print(html)\n",
        "\n",
        "ls = html.select(selector)\n",
        "\n",
        "programs = []\n",
        "\n",
        "for li in ls:\n",
        "  genre = li.find('dt').find('a').find('span').text\n",
        "  a = li.find('dt').find('a')\n",
        "  print(a)"
      ],
      "execution_count": null,
      "outputs": [
        {
          "output_type": "stream",
          "text": [
            "<!DOCTYPE DOCTYPEhtml>\n",
            "\n",
            "<htmllang=\"ko\">\n",
            "<head>\n",
            "<metahttp-equiv=\"content-type\"content=\"text html;charset='UTF-8\"/'>\n",
            "<metahttp-equiv=\"x-ua-compatible\"content=\"ie=edge\"></metahttp-equiv=\"x-ua-compatible\"content=\"ie=edge\">\n",
            "<metaname=\"viewport\"content=\"width=device-width,initial-scale=1.0,maximum-scale=1.0,minimum-scale=1.0,user-scalable=no,target-densitydpi=medium-dpi\"></metaname=\"viewport\"content=\"width=device-width,initial-scale=1.0,maximum-scale=1.0,minimum-scale=1.0,user-scalable=no,target-densitydpi=medium-dpi\">\n",
            "<metaname=\"apple-mobile-web-app-capable\"content=\"yes\"></metaname=\"apple-mobile-web-app-capable\"content=\"yes\">\n",
            "<metaname=\"apple-mobile-web-app-status-bar-style\"content=\"black\"></metaname=\"apple-mobile-web-app-status-bar-style\"content=\"black\">\n",
            "<linkrel=\"shortcuticon\"href=\"https: 20210706104746=\"\" favicon=\"\" favicon.ico\"=\"\" images=\"\" resources=\"\" static.kbs.co.kr=\"\" www=\"\"></linkrel=\"shortcuticon\"href=\"https:>\n",
            "<linkrel=\"shortcuticon\"href=\"https: 20210706104746=\"\" favicon=\"\" favicon.png\"=\"\" images=\"\" resources=\"\" static.kbs.co.kr=\"\" www=\"\"></linkrel=\"shortcuticon\"href=\"https:>\n",
            "<linkrel=\"apple-touch-icon\"href=\"https: 20210706104746=\"\" favorite=\"\" favorite.png\"=\"\" images=\"\" resources=\"\" static.kbs.co.kr=\"\" www=\"\"></linkrel=\"apple-touch-icon\"href=\"https:>\n",
            "<metaname=\"description\"content=\"대한민국대표공영미디어kbs\"></metaname=\"description\"content=\"대한민국대표공영미디어kbs\">\n",
            "<metaname=\"keywords\"content=\"kbs,kbs,한국방송공사\"></metaname=\"keywords\"content=\"kbs,kbs,한국방송공사\">\n",
            "<metaproperty=\"og:title\"content=\"kbs\"></metaproperty=\"og:title\"content=\"kbs\">\n",
            "<metaproperty=\"og:site_name\"content=\"kbs\"></metaproperty=\"og:site_name\"content=\"kbs\">\n",
            "<metaproperty=\"og:url\"content=\"http: \"=\"\" programlist=\"\" www.kbs.co.kr=\"\"></metaproperty=\"og:url\"content=\"http:>\n",
            "<metaproperty=\"og:image\"content=\"https: 20210706104746=\"\" images=\"\" kbs_og.png\"=\"\" og=\"\" resources=\"\" static.kbs.co.kr=\"\" www=\"\"></metaproperty=\"og:image\"content=\"https:>\n",
            "<metaproperty=\"og:description\"content=\"대한민국대표공영미디어kbs\"></metaproperty=\"og:description\"content=\"대한민국대표공영미디어kbs\">\n",
            "<metaproperty=\"og:type\"content=\"website\"></metaproperty=\"og:type\"content=\"website\">\n",
            "<metaname=\"twitter:card\"content=\"summary\"></metaname=\"twitter:card\"content=\"summary\">\n",
            "<metaname=\"twitter:title\"content=\"kbs\"></metaname=\"twitter:title\"content=\"kbs\">\n",
            "<metaname=\"twitter:site\"content=\"kbs\"></metaname=\"twitter:site\"content=\"kbs\">\n",
            "<metaname=\"twitter:url\"content=\"http: \"=\"\" programlist=\"\" www.kbs.co.kr=\"\"></metaname=\"twitter:url\"content=\"http:>\n",
            "<metaname=\"twitter:image\"content=\"https: 20210706104746=\"\" images=\"\" kbs_og.png\"=\"\" og=\"\" resources=\"\" static.kbs.co.kr=\"\" www=\"\"></metaname=\"twitter:image\"content=\"https:>\n",
            "<metaname=\"twitter:description\"content=\"대한민국대표공영미디어kbs\"></metaname=\"twitter:description\"content=\"대한민국대표공영미디어kbs\">\n",
            "<!--안드로이드홈화면추가시상단주소창제거-->\n",
            "<metaname=\"mobile-web-app-capable\"content=\"yes\">\n",
            "<!--ios홈화면추가시상단주소창제거-->\n",
            "<metaname=\"apple-mobile-web-app-capable\"content=\"yes\">\n",
            "<title>프로그램전체보기|디지털KBS</title>\n",
            "<linkrel=\"stylesheet\"href=\"https: 20210706104746=\"\" css=\"\" resources=\"\" static.kbs.co.kr=\"\" style.min.css\"media=\"all\" www=\"\">\n",
            "</linkrel=\"stylesheet\"href=\"https:></metaname=\"apple-mobile-web-app-capable\"content=\"yes\"></metaname=\"mobile-web-app-capable\"content=\"yes\"></metahttp-equiv=\"content-type\"content=\"text></head>\n",
            "<body>\n",
            "<divid=\"skipnav\"class=\"skip_navi\">\n",
            "<ul>\n",
            "<li><ahref=\"#content-skiplink\">본문바로가기</ahref=\"#content-skiplink\"></li></ul></divid=\"skipnav\"class=\"skip_navi\"></body></htmllang=\"ko\">\n",
            "<li><ahref=\"http: able.kbs.co.kr\"=\"\">장애인서비스바로가기</ahref=\"http:></li>\n",
            "<li><ahref=\"#header-menu-skiplink\">메뉴바로가기</ahref=\"#header-menu-skiplink\"></li>\n",
            "<li><ahref=\"#footer\">푸터바로가기</ahref=\"#footer\"></li>\n",
            "\n",
            "<!--//#skip_navigation-->\n",
            "<divid=\"wrap\">\n",
            "<divid=\"container\"><!--[C]하단으로스크롤시class=\"sticky\"가추가됩니다.-->\n",
            "<divid=\"header\"></divid=\"header\"></divid=\"container\"></divid=\"wrap\"><!--//#header--><!--2017-02-20메뉴순서변경-->\n",
            "<divid=\"content\">\n",
            "<aid=\"content-skiplink\"class=\"blind-link\"href=\"#content-skiplink\"title=\"본문영역의키보드초점을받기위한링크입니다.이동기능은없습니다.\">이동이없는링크입니다</aid=\"content-skiplink\"class=\"blind-link\"href=\"#content-skiplink\"title=\"본문영역의키보드초점을받기위한링크입니다.이동기능은없습니다.\"></divid=\"content\">\n",
            "<h2class=\"blind\">본문영역</h2class=\"blind\">\n",
            "<divclass=\"component\">\n",
            "<divclass=\"component-boxsitemap\">\n",
            "<h4class=\"tit-a\">방영프로그램전체보기</h4class=\"tit-a\"></divclass=\"component-boxsitemap\"></divclass=\"component\">\n",
            "<divclass=\"sitemap-navi\">\n",
            "<h5class=\"blind\">채널바로가기</h5class=\"blind\"></divclass=\"sitemap-navi\">\n",
            "<ul>\n",
            "<li><ahref=\"#ch-drama\">드라마리스트바로가기</ahref=\"#ch-drama\"></li></ul>\n",
            "<li><ahref=\"#ch-enter\">예능리스트바로가기</ahref=\"#ch-enter\"></li>\n",
            "<li><ahref=\"#ch-sisa\">시사교양리스트바로가기</ahref=\"#ch-sisa\"></li>\n",
            "<li><ahref=\"#ch-1r\">1Radio리스트바로가기</ahref=\"#ch-1r\"></li>\n",
            "<li><ahref=\"#ch-happyfm\">HappyFM리스트바로가기</ahref=\"#ch-happyfm\"></li>\n",
            "<li><ahref=\"#ch-3r\">3Radio리스트바로가기</ahref=\"#ch-3r\"></li>\n",
            "<li><ahref=\"#ch-classicfm\">ClassicFM리스트바로가기</ahref=\"#ch-classicfm\"></li>\n",
            "<li><ahref=\"#ch-coolfm\">CoolFM리스트바로가기</ahref=\"#ch-coolfm\"></li>\n",
            "<li><ahref=\"#ch-han\">한민족방송리스트바로가기</ahref=\"#ch-han\"></li>\n",
            "\n",
            "\n",
            "<divclass=\"sitemap-area\">\n",
            "<dl>\n",
            "<dt><ahref=\"http: drama.kbs.co.kr\"id=\"ch-drama\" name=\"ch-drama\"><span>드라마</span></ahref=\"http:></dt></dl></divclass=\"sitemap-area\">\n",
            "<dd>\n",
            "<ulid=\"section_03\">\n",
            "</ulid=\"section_03\"></dd>\n",
            "\n",
            "<ddclass=\"sitemap-end\"><ahref=\"http: drama.kbs.co.kr=\"\" list03.html?section_id='5799&amp;api_id=144\"'>종영드라마프로그램바로가기</ahref=\"http:></ddclass=\"sitemap-end\">\n",
            "\n",
            "<dl>\n",
            "<dt><ahref=\"http: fun.kbs.co.kr\"id=\"ch-enter\" name=\"ch-enter\"><span>예능</span></ahref=\"http:></dt></dl>\n",
            "<dd>\n",
            "<ulid=\"section_04\">\n",
            "</ulid=\"section_04\"></dd>\n",
            "\n",
            "<ddclass=\"sitemap-end\"><ahref=\"http: fun.kbs.co.kr=\"\" list02.html\"=\"\">종영예능프로그램바로가기</ahref=\"http:></ddclass=\"sitemap-end\">\n",
            "\n",
            "<dl>\n",
            "<dt><ahref=\"http: culture.kbs.co.kr\"id=\"ch-sisa\" name=\"ch-sisa\"><span>시사교양</span></ahref=\"http:></dt></dl>\n",
            "<dd>\n",
            "<ulid=\"section_05\">\n",
            "</ulid=\"section_05\"></dd>\n",
            "\n",
            "<ddclass=\"sitemap-end\"><ahref=\"http: culture.kbs.co.kr=\"\" list02.html\"=\"\">종영시사교양프로그램바로가기</ahref=\"http:></ddclass=\"sitemap-end\">\n",
            "\n",
            "<dl>\n",
            "<dt><ahref=\"http: \"id=\"ch-1r\" name=\"ch-1r\" radio.kbs.co.kr=\"\"><span>1Radio</span></ahref=\"http:></dt></dl>\n",
            "<dd>\n",
            "<ulid=\"section_radio_21\">\n",
            "</ulid=\"section_radio_21\"></dd>\n",
            "\n",
            "\n",
            "<dlclass=\"no-line\">\n",
            "<dt><ahref=\"http: \"id=\"ch-happyfm\" name=\"ch-happyfm\" radio.kbs.co.kr=\"\"><span>HappyFM</span></ahref=\"http:></dt></dlclass=\"no-line\">\n",
            "<dd>\n",
            "<ulid=\"section_radio_22\">\n",
            "</ulid=\"section_radio_22\"></dd>\n",
            "\n",
            "\n",
            "<dlclass=\"no-line\">\n",
            "<dt><ahref=\"http: \"id=\"ch-3r\" name=\"ch-3r\" radio.kbs.co.kr=\"\"><span>3Radio</span></ahref=\"http:></dt></dlclass=\"no-line\">\n",
            "<dd>\n",
            "<ulid=\"section_radio_23\">\n",
            "</ulid=\"section_radio_23\"></dd>\n",
            "\n",
            "\n",
            "<dlclass=\"no-line\">\n",
            "<dt><ahref=\"http: \"id=\"ch-classicfm\" name=\"ch-classicfm\" radio.kbs.co.kr=\"\"><span>ClassicFM</span></ahref=\"http:></dt></dlclass=\"no-line\">\n",
            "<dd>\n",
            "<ulid=\"section_radio_24\">\n",
            "</ulid=\"section_radio_24\"></dd>\n",
            "\n",
            "\n",
            "<dlclass=\"no-line\">\n",
            "<dt><ahref=\"http: \"id=\"ch-coolfm\" name=\"ch-coolfm\" radio.kbs.co.kr=\"\"><span>CoolFM</span></ahref=\"http:></dt></dlclass=\"no-line\">\n",
            "<dd>\n",
            "<ulid=\"section_radio_25\">\n",
            "</ulid=\"section_radio_25\"></dd>\n",
            "\n",
            "\n",
            "<dlclass=\"no-line\">\n",
            "<dt><ahref=\"http: \"id=\"ch-han\" name=\"ch-han\" radio.kbs.co.kr=\"\"><span>한민족방송</span></ahref=\"http:></dt></dlclass=\"no-line\">\n",
            "<dd>\n",
            "<ulid=\"section_radio_26\">\n",
            "</ulid=\"section_radio_26\"></dd>\n",
            "\n",
            "<ddclass=\"sitemap-end\"><ahref=\"http: list05.html?section_id='4460&amp;api_id=144\"' radio.kbs.co.kr=\"\">종영라디오프로그램바로가기</ahref=\"http:></ddclass=\"sitemap-end\">\n",
            "\n",
            "\n",
            "\n",
            "<!--//.component-->\n",
            "<!--//#content-->\n",
            "<divid=\"footer\"class=\"footer\"></divid=\"footer\"class=\"footer\"><!--//#footer-->\n",
            "<!--//#container-->\n",
            "<!--//#wrap-->\n",
            "<scriptsrc=\"https: 20210706104746=\"\" js=\"\" resources=\"\" script.min.js\"=\"\" static.kbs.co.kr=\"\" www=\"\"></scriptsrc=\"https:>\n",
            "<scripttype=\"text javascript\"src=\"https://static.kbs.co.kr/www/20210706104746/resources/js/kbs/programlist/programlist.js\"></scripttype=\"text>\n",
            "\n",
            "\n",
            "\n"
          ],
          "name": "stdout"
        }
      ]
    },
    {
      "cell_type": "code",
      "metadata": {
        "id": "tc3TJbpxyn4e"
      },
      "source": [
        ""
      ],
      "execution_count": null,
      "outputs": []
    }
  ]
}