{
  "nbformat": 4,
  "nbformat_minor": 0,
  "metadata": {
    "colab": {
      "name": "Scraping.ipynb",
      "provenance": [],
      "include_colab_link": true
    },
    "kernelspec": {
      "name": "python3",
      "display_name": "Python 3"
    },
    "language_info": {
      "name": "python"
    }
  },
  "cells": [
    {
      "cell_type": "markdown",
      "metadata": {
        "id": "view-in-github",
        "colab_type": "text"
      },
      "source": [
        "<a href=\"https://colab.research.google.com/github/Hinoto04/2021_PNUAC_AIData/blob/main/Scraping_JJY.ipynb\" target=\"_parent\"><img src=\"https://colab.research.google.com/assets/colab-badge.svg\" alt=\"Open In Colab\"/></a>"
      ]
    },
    {
      "cell_type": "markdown",
      "metadata": {
        "id": "4TflfuYmLvid"
      },
      "source": [
        "6팀\n",
        "\n",
        "주제: \n",
        "\n",
        "주제선정동기: \n",
        "\n",
        "수집자료: \n",
        "\n",
        "\n"
      ]
    },
    {
      "cell_type": "code",
      "metadata": {
        "colab": {
          "base_uri": "https://localhost:8080/"
        },
        "id": "mW2IDG9Lav1v",
        "outputId": "e7e3cc6e-acbd-4d0d-8617-29b5a2e82e56"
      },
      "source": [
        "!pip install selenium\n",
        "!apt-get update\n",
        "!apt install chromium-chromedriver"
      ],
      "execution_count": 6,
      "outputs": [
        {
          "output_type": "stream",
          "text": [
            "Requirement already satisfied: selenium in /usr/local/lib/python3.7/dist-packages (3.141.0)\n",
            "Requirement already satisfied: urllib3 in /usr/local/lib/python3.7/dist-packages (from selenium) (1.24.3)\n",
            "Get:1 https://cloud.r-project.org/bin/linux/ubuntu bionic-cran40/ InRelease [3,626 B]\n",
            "Ign:2 https://developer.download.nvidia.com/compute/cuda/repos/ubuntu1804/x86_64  InRelease\n",
            "Get:3 http://security.ubuntu.com/ubuntu bionic-security InRelease [88.7 kB]\n",
            "Ign:4 https://developer.download.nvidia.com/compute/machine-learning/repos/ubuntu1804/x86_64  InRelease\n",
            "Get:5 https://developer.download.nvidia.com/compute/cuda/repos/ubuntu1804/x86_64  Release [697 B]\n",
            "Hit:6 https://developer.download.nvidia.com/compute/machine-learning/repos/ubuntu1804/x86_64  Release\n",
            "Get:7 https://developer.download.nvidia.com/compute/cuda/repos/ubuntu1804/x86_64  Release.gpg [836 B]\n",
            "Get:8 http://ppa.launchpad.net/c2d4u.team/c2d4u4.0+/ubuntu bionic InRelease [15.9 kB]\n",
            "Hit:9 http://archive.ubuntu.com/ubuntu bionic InRelease\n",
            "Get:10 https://cloud.r-project.org/bin/linux/ubuntu bionic-cran40/ Packages [62.2 kB]\n",
            "Get:11 http://archive.ubuntu.com/ubuntu bionic-updates InRelease [88.7 kB]\n",
            "Hit:12 http://ppa.launchpad.net/cran/libgit2/ubuntu bionic InRelease\n",
            "Get:14 http://ppa.launchpad.net/deadsnakes/ppa/ubuntu bionic InRelease [15.9 kB]\n",
            "Ign:15 https://developer.download.nvidia.com/compute/cuda/repos/ubuntu1804/x86_64  Packages\n",
            "Get:15 https://developer.download.nvidia.com/compute/cuda/repos/ubuntu1804/x86_64  Packages [637 kB]\n",
            "Get:16 http://archive.ubuntu.com/ubuntu bionic-backports InRelease [74.6 kB]\n",
            "Get:17 http://security.ubuntu.com/ubuntu bionic-security/universe amd64 Packages [1,418 kB]\n",
            "Hit:18 http://ppa.launchpad.net/graphics-drivers/ppa/ubuntu bionic InRelease\n",
            "Get:19 http://ppa.launchpad.net/c2d4u.team/c2d4u4.0+/ubuntu bionic/main Sources [1,780 kB]\n",
            "Get:20 http://security.ubuntu.com/ubuntu bionic-security/main amd64 Packages [2,221 kB]\n",
            "Get:21 http://archive.ubuntu.com/ubuntu bionic-updates/main amd64 Packages [2,658 kB]\n",
            "Get:22 http://ppa.launchpad.net/c2d4u.team/c2d4u4.0+/ubuntu bionic/main amd64 Packages [910 kB]\n",
            "Get:23 http://archive.ubuntu.com/ubuntu bionic-updates/universe amd64 Packages [2,188 kB]\n",
            "Get:24 http://ppa.launchpad.net/deadsnakes/ppa/ubuntu bionic/main amd64 Packages [40.8 kB]\n",
            "Fetched 12.2 MB in 4s (2,799 kB/s)\n",
            "Reading package lists... Done\n",
            "Reading package lists... Done\n",
            "Building dependency tree       \n",
            "Reading state information... Done\n",
            "The following additional packages will be installed:\n",
            "  chromium-browser chromium-browser-l10n chromium-codecs-ffmpeg-extra\n",
            "Suggested packages:\n",
            "  webaccounts-chromium-extension unity-chromium-extension\n",
            "The following NEW packages will be installed:\n",
            "  chromium-browser chromium-browser-l10n chromium-chromedriver\n",
            "  chromium-codecs-ffmpeg-extra\n",
            "0 upgraded, 4 newly installed, 0 to remove and 58 not upgraded.\n",
            "Need to get 86.0 MB of archives.\n",
            "After this operation, 298 MB of additional disk space will be used.\n",
            "Get:1 http://archive.ubuntu.com/ubuntu bionic-updates/universe amd64 chromium-codecs-ffmpeg-extra amd64 91.0.4472.101-0ubuntu0.18.04.1 [1,124 kB]\n",
            "Get:2 http://archive.ubuntu.com/ubuntu bionic-updates/universe amd64 chromium-browser amd64 91.0.4472.101-0ubuntu0.18.04.1 [76.1 MB]\n",
            "Get:3 http://archive.ubuntu.com/ubuntu bionic-updates/universe amd64 chromium-browser-l10n all 91.0.4472.101-0ubuntu0.18.04.1 [3,937 kB]\n",
            "Get:4 http://archive.ubuntu.com/ubuntu bionic-updates/universe amd64 chromium-chromedriver amd64 91.0.4472.101-0ubuntu0.18.04.1 [4,837 kB]\n",
            "Fetched 86.0 MB in 6s (15.4 MB/s)\n",
            "Selecting previously unselected package chromium-codecs-ffmpeg-extra.\n",
            "(Reading database ... 160815 files and directories currently installed.)\n",
            "Preparing to unpack .../chromium-codecs-ffmpeg-extra_91.0.4472.101-0ubuntu0.18.04.1_amd64.deb ...\n",
            "Unpacking chromium-codecs-ffmpeg-extra (91.0.4472.101-0ubuntu0.18.04.1) ...\n",
            "Selecting previously unselected package chromium-browser.\n",
            "Preparing to unpack .../chromium-browser_91.0.4472.101-0ubuntu0.18.04.1_amd64.deb ...\n",
            "Unpacking chromium-browser (91.0.4472.101-0ubuntu0.18.04.1) ...\n",
            "Selecting previously unselected package chromium-browser-l10n.\n",
            "Preparing to unpack .../chromium-browser-l10n_91.0.4472.101-0ubuntu0.18.04.1_all.deb ...\n",
            "Unpacking chromium-browser-l10n (91.0.4472.101-0ubuntu0.18.04.1) ...\n",
            "Selecting previously unselected package chromium-chromedriver.\n",
            "Preparing to unpack .../chromium-chromedriver_91.0.4472.101-0ubuntu0.18.04.1_amd64.deb ...\n",
            "Unpacking chromium-chromedriver (91.0.4472.101-0ubuntu0.18.04.1) ...\n",
            "Setting up chromium-codecs-ffmpeg-extra (91.0.4472.101-0ubuntu0.18.04.1) ...\n",
            "Setting up chromium-browser (91.0.4472.101-0ubuntu0.18.04.1) ...\n",
            "update-alternatives: using /usr/bin/chromium-browser to provide /usr/bin/x-www-browser (x-www-browser) in auto mode\n",
            "update-alternatives: using /usr/bin/chromium-browser to provide /usr/bin/gnome-www-browser (gnome-www-browser) in auto mode\n",
            "Setting up chromium-chromedriver (91.0.4472.101-0ubuntu0.18.04.1) ...\n",
            "Setting up chromium-browser-l10n (91.0.4472.101-0ubuntu0.18.04.1) ...\n",
            "Processing triggers for man-db (2.8.3-2ubuntu0.1) ...\n",
            "Processing triggers for hicolor-icon-theme (0.17-2) ...\n",
            "Processing triggers for mime-support (3.60ubuntu1) ...\n",
            "Processing triggers for libc-bin (2.27-3ubuntu1.2) ...\n",
            "/sbin/ldconfig.real: /usr/local/lib/python3.7/dist-packages/ideep4py/lib/libmkldnn.so.0 is not a symbolic link\n",
            "\n"
          ],
          "name": "stdout"
        }
      ]
    },
    {
      "cell_type": "code",
      "metadata": {
        "colab": {
          "base_uri": "https://localhost:8080/"
        },
        "id": "DcfoH86ta4Xt",
        "outputId": "979c2ddc-66a3-4856-b102-9b2481a7f2ea"
      },
      "source": [
        "from google.colab import drive\n",
        "drive.mount('/content/drive')"
      ],
      "execution_count": 4,
      "outputs": [
        {
          "output_type": "stream",
          "text": [
            "Mounted at /content/drive\n"
          ],
          "name": "stdout"
        }
      ]
    },
    {
      "cell_type": "code",
      "metadata": {
        "id": "ktnvYG05aNFg"
      },
      "source": [
        "import requests\n",
        "from bs4 import BeautifulSoup as bs\n",
        "from selenium import webdriver\n",
        "import time\n"
      ],
      "execution_count": 11,
      "outputs": []
    },
    {
      "cell_type": "code",
      "metadata": {
        "colab": {
          "base_uri": "https://localhost:8080/"
        },
        "id": "jwdX3CQ9bT3Y",
        "outputId": "0b7e52bc-d880-45ed-96c6-fb9dec16e5a1"
      },
      "source": [
        "#driver = webdriver.Chrome('/content/drive/MyDrive/PNU AI 아카데미/chromedriver')\n",
        "chrome_options = webdriver.ChromeOptions()\n",
        "chrome_options.add_argument('--headless')\n",
        "chrome_options.add_argument('--no-sandbox')\n",
        "chrome_options.add_argument('--disable-dev-shm-usage')\n",
        "driver = webdriver.Chrome('chromedriver', chrome_options=chrome_options)\n",
        "driver.get('https://www.kbs.co.kr/programlist/')\n",
        "programBtn = driver.find_element_by_css_selector('#gnb_programlist_btn')\n",
        "programBtn.click()\n",
        "time.sleep(1)\n",
        "print(driver.current_url)\n"
      ],
      "execution_count": 28,
      "outputs": [
        {
          "output_type": "stream",
          "text": [
            "/usr/local/lib/python3.7/dist-packages/ipykernel_launcher.py:6: DeprecationWarning: use options instead of chrome_options\n",
            "  \n"
          ],
          "name": "stderr"
        },
        {
          "output_type": "stream",
          "text": [
            "https://www.kbs.co.kr/programlist/\n"
          ],
          "name": "stdout"
        }
      ]
    },
    {
      "cell_type": "code",
      "metadata": {
        "colab": {
          "base_uri": "https://localhost:8080/",
          "height": 1000
        },
        "id": "IebMPXM-ews9",
        "outputId": "2b526a75-051f-402c-8dc4-c540fe6f8541"
      },
      "source": [
        "programs = []\n",
        "\n",
        "chrome_options = webdriver.ChromeOptions()\n",
        "chrome_options.add_argument('--headless')\n",
        "chrome_options.add_argument('--no-sandbox')\n",
        "chrome_options.add_argument('--disable-dev-shm-usage')\n",
        "driver = webdriver.Chrome('chromedriver', chrome_options=chrome_options)\n",
        "driver.get('https://www.kbs.co.kr/programlist/')\n",
        "programBtn = driver.find_element_by_css_selector('#gnb_programlist_btn')\n",
        "programBtn.click()\n",
        "time.sleep(1)\n",
        "#print(driver.current_url)\n",
        "\n",
        "genreList = driver.find_elements_by_css_selector('#content > div > div > div.sitemap-area > dl')\n",
        "for genre in genreList[:3]:\n",
        "  genreName = genre.find_element_by_css_selector('dt > a > span').text\n",
        "  #print(genreName)\n",
        "  proList = genre.find_elements_by_css_selector('dd > ul > li > a')\n",
        "  for pro in proList:\n",
        "    programs.append(pro.text)\n",
        "\n",
        "for pro in programs:\n",
        "  driver.get(f'https://search.naver.com/search.naver?where=nexearch&sm=top_hty&fbm=1&ie=utf8&query={pro}')\n",
        "  #print(driver.current_url)\n",
        "  try:\n",
        "    proInfo = driver.find_element_by_css_selector('#main_pack > div._kgs_broadcast')\n",
        "    genre = proInfo.find_element_by_css_selector('div.cm_top_wrap._sticky._custom_select > div.title_area._title_area > div.sub_title > span > a').text\n",
        "    age = proInfo.find_element_by_css_selector('div.cm_top_wrap._sticky._custom_select > div.title_area._title_area > div.sub_title > span:nth-child(3)').text\n",
        "    details = proInfo.find_elements_by_css_selector('div.cm_content_wrap > div.cm_content_area._scroll_mover \\\n",
        "    > div.cm_info_box > div.detail_info > dl > div.info_group')\n",
        "    info = {'장르':genre, '관람가':age, '편성':'', '시청률':''}\n",
        "    for detail in details:\n",
        "      span = detail.find_element_by_css_selector('dt').text\n",
        "      if span == '편성':\n",
        "        for i in detail.find_elements_by_css_selector('dd > span.text'):\n",
        "          info[span] += i.text\n",
        "      if span == '시청률':\n",
        "        info[span] = detail.find_element_by_css_selector('dd > em').text\n",
        "    print('KBS', pro, info)\n",
        "  except:\n",
        "    print('정보 없음')\n",
        "    \n",
        "\n",
        "\n",
        "\n"
      ],
      "execution_count": 41,
      "outputs": [
        {
          "output_type": "stream",
          "text": [
            "/usr/local/lib/python3.7/dist-packages/ipykernel_launcher.py:7: DeprecationWarning: use options instead of chrome_options\n",
            "  import sys\n"
          ],
          "name": "stderr"
        },
        {
          "output_type": "stream",
          "text": [
            "KBS 디어엠 드라마 {'장르': '드라마', '관람가': '15세이상', '편성': '2021. ~', '시청률': ''}\n",
            "KBS 멀리서 보면 푸른 봄 드라마 {'장르': '드라마', '관람가': '15세이상', '편성': '2021.06.14. ~(월, 화) 오후 09:30', '시청률': '2.2%'}\n",
            "KBS 미스 몬테크리스토 드라마 {'장르': '드라마', '관람가': '15세이상', '편성': '2021.02.15. ~ 2021.07.02. 100부작(월~금) 오후 07:50', '시청률': '15.9%'}\n",
            "KBS 빨강 구두 드라마 {'장르': '드라마', '관람가': '15세이상', '편성': '2021.07.05. ~(월~금) 오후 07:50', '시청률': '11.6%'}\n",
            "KBS 속아도 꿈결 드라마 {'장르': '드라마', '관람가': '15세이상', '편성': '2021.03.29. ~(월~금) 오후 08:30', '시청률': '11.9%'}\n",
            "KBS 오케이 광자매 드라마 {'장르': '드라마', '관람가': '15세이상', '편성': '2021.03.13. ~(토, 일) 오후 07:55', '시청률': '27.0%'}\n",
            "KBS 이미테이션 드라마 {'장르': '드라마', '관람가': '15세이상', '편성': '2021.05.07. ~(금) 오후 11:20', '시청률': '1.0%'}\n",
            "KBS 1박 2일 예능 {'장르': '예능', '관람가': '15세이상', '편성': '2019.12.08. ~(일) 오후 06:30', '시청률': '10.5%'}\n",
            "정보 없음\n",
            "정보 없음\n",
            "정보 없음\n",
            "정보 없음\n",
            "KBS 가요무대 음악 {'장르': '음악', '관람가': '전체관람가', '편성': '1985.11.04. ~(월) 오후 10:00', '시청률': '6.8%'}\n",
            "KBS 개는 훌륭하다 예능 {'장르': '예능', '관람가': '15세이상', '편성': '2019.11.04. ~(월) 오후 10:40', '시청률': '4.4%'}\n",
            "KBS 노래가 좋아 예능 {'장르': '예능', '관람가': '전체관람가', '편성': '2016.10.08. ~(화) 오후 08:30', '시청률': '4.4%'}\n",
            "KBS 대화의 희열3 예능 {'장르': '예능', '관람가': '15세이상', '편성': '2021.05.13. ~(목) 오후 10:40', '시청률': '1.9%'}\n",
            "KBS 독립영화관 예능 {'장르': '예능', '관람가': '15세이상', '편성': '2011.01.07. ~(금) 밤 12:10', '시청률': '0.9%'}\n",
            "정보 없음\n",
            "KBS 랜선장터 예능 {'장르': '예능', '관람가': '15세이상', '편성': '2021.06.16. ~(수) 오후 09:30', '시청률': '2.7%'}\n",
            "KBS 뮤직뱅크 음악 {'장르': '음악', '관람가': '15세이상', '편성': '1998.06.16. ~(금) 오후 05:00', '시청률': '0.7%'}\n",
            "KBS 박원숙의 같이 삽시다 시즌3 예능 {'장르': '예능', '관람가': '15세이상', '편성': '2021.02.01. ~(수) 오후 08:30', '시청률': '5.8%'}\n",
            "KBS 백종원 클라쓰 예능 {'장르': '예능', '관람가': '15세이상', '편성': '2021.06.28. ~(월) 오후 08:30', '시청률': '3.2%'}\n",
            "KBS 불후의 명곡 예능 {'장르': '예능', '관람가': '15세이상', '편성': '2012.04.07. ~(토) 오후 06:05', '시청률': '5.3%'}\n",
            "KBS 사장님 귀는 당나귀 귀 예능 {'장르': '예능', '관람가': '15세이상', '편성': '2019.04.28. ~(일) 오후 05:00', '시청률': '5.9%'}\n",
            "KBS 살림남2 예능 {'장르': '예능', '관람가': '15세이상', '편성': '2017.02.22. ~(토) 오후 09:15', '시청률': '6.0%'}\n",
            "KBS 슈퍼맨이 돌아왔다 예능 {'장르': '예능', '관람가': '12세이상', '편성': '2013.11.03. ~(일) 오후 09:15', '시청률': '6.0%'}\n",
            "정보 없음\n",
            "정보 없음\n",
            "KBS 신상출시 편스토랑 예능 {'장르': '예능', '관람가': '15세이상', '편성': '2019.10.25. ~(금) 오후 09:40', '시청률': '3.7%'}\n",
            "KBS 연중 라이브 예능 {'장르': '예능', '관람가': '15세이상', '편성': '2020.07.03. ~(금) 오후 08:30', '시청률': '3.2%'}\n",
            "KBS 열린음악회 음악 {'장르': '음악', '관람가': '전체관람가', '편성': '1993.05.09. ~(일) 오후 06:00', '시청률': '2.8%'}\n",
            "KBS 영화가 좋다 예능 {'장르': '예능', '관람가': '15세이상', '편성': '2006.11.25. ~(토) 오전 10:05', '시청률': '2.2%'}\n"
          ],
          "name": "stdout"
        },
        {
          "output_type": "error",
          "ename": "KeyboardInterrupt",
          "evalue": "ignored",
          "traceback": [
            "\u001b[0;31m---------------------------------------------------------------------------\u001b[0m",
            "\u001b[0;31mTypeError\u001b[0m                                 Traceback (most recent call last)",
            "\u001b[0;32m/usr/local/lib/python3.7/dist-packages/urllib3/connectionpool.py\u001b[0m in \u001b[0;36m_make_request\u001b[0;34m(self, conn, method, url, timeout, chunked, **httplib_request_kw)\u001b[0m\n\u001b[1;32m    376\u001b[0m             \u001b[0;32mtry\u001b[0m\u001b[0;34m:\u001b[0m  \u001b[0;31m# Python 2.7, use buffering of HTTP responses\u001b[0m\u001b[0;34m\u001b[0m\u001b[0;34m\u001b[0m\u001b[0m\n\u001b[0;32m--> 377\u001b[0;31m                 \u001b[0mhttplib_response\u001b[0m \u001b[0;34m=\u001b[0m \u001b[0mconn\u001b[0m\u001b[0;34m.\u001b[0m\u001b[0mgetresponse\u001b[0m\u001b[0;34m(\u001b[0m\u001b[0mbuffering\u001b[0m\u001b[0;34m=\u001b[0m\u001b[0;32mTrue\u001b[0m\u001b[0;34m)\u001b[0m\u001b[0;34m\u001b[0m\u001b[0;34m\u001b[0m\u001b[0m\n\u001b[0m\u001b[1;32m    378\u001b[0m             \u001b[0;32mexcept\u001b[0m \u001b[0mTypeError\u001b[0m\u001b[0;34m:\u001b[0m  \u001b[0;31m# Python 3\u001b[0m\u001b[0;34m\u001b[0m\u001b[0;34m\u001b[0m\u001b[0m\n",
            "\u001b[0;31mTypeError\u001b[0m: getresponse() got an unexpected keyword argument 'buffering'",
            "\nDuring handling of the above exception, another exception occurred:\n",
            "\u001b[0;31mKeyboardInterrupt\u001b[0m                         Traceback (most recent call last)",
            "\u001b[0;32m<ipython-input-41-7e893def8198>\u001b[0m in \u001b[0;36m<module>\u001b[0;34m()\u001b[0m\n\u001b[1;32m     21\u001b[0m \u001b[0;34m\u001b[0m\u001b[0m\n\u001b[1;32m     22\u001b[0m \u001b[0;32mfor\u001b[0m \u001b[0mpro\u001b[0m \u001b[0;32min\u001b[0m \u001b[0mprograms\u001b[0m\u001b[0;34m:\u001b[0m\u001b[0;34m\u001b[0m\u001b[0;34m\u001b[0m\u001b[0m\n\u001b[0;32m---> 23\u001b[0;31m   \u001b[0mdriver\u001b[0m\u001b[0;34m.\u001b[0m\u001b[0mget\u001b[0m\u001b[0;34m(\u001b[0m\u001b[0;34mf'https://search.naver.com/search.naver?where=nexearch&sm=top_hty&fbm=1&ie=utf8&query={pro}'\u001b[0m\u001b[0;34m)\u001b[0m\u001b[0;34m\u001b[0m\u001b[0;34m\u001b[0m\u001b[0m\n\u001b[0m\u001b[1;32m     24\u001b[0m   \u001b[0;31m#print(driver.current_url)\u001b[0m\u001b[0;34m\u001b[0m\u001b[0;34m\u001b[0m\u001b[0;34m\u001b[0m\u001b[0m\n\u001b[1;32m     25\u001b[0m   \u001b[0;32mtry\u001b[0m\u001b[0;34m:\u001b[0m\u001b[0;34m\u001b[0m\u001b[0;34m\u001b[0m\u001b[0m\n",
            "\u001b[0;32m/usr/local/lib/python3.7/dist-packages/selenium/webdriver/remote/webdriver.py\u001b[0m in \u001b[0;36mget\u001b[0;34m(self, url)\u001b[0m\n\u001b[1;32m    331\u001b[0m         \u001b[0mLoads\u001b[0m \u001b[0ma\u001b[0m \u001b[0mweb\u001b[0m \u001b[0mpage\u001b[0m \u001b[0;32min\u001b[0m \u001b[0mthe\u001b[0m \u001b[0mcurrent\u001b[0m \u001b[0mbrowser\u001b[0m \u001b[0msession\u001b[0m\u001b[0;34m.\u001b[0m\u001b[0;34m\u001b[0m\u001b[0;34m\u001b[0m\u001b[0m\n\u001b[1;32m    332\u001b[0m         \"\"\"\n\u001b[0;32m--> 333\u001b[0;31m         \u001b[0mself\u001b[0m\u001b[0;34m.\u001b[0m\u001b[0mexecute\u001b[0m\u001b[0;34m(\u001b[0m\u001b[0mCommand\u001b[0m\u001b[0;34m.\u001b[0m\u001b[0mGET\u001b[0m\u001b[0;34m,\u001b[0m \u001b[0;34m{\u001b[0m\u001b[0;34m'url'\u001b[0m\u001b[0;34m:\u001b[0m \u001b[0murl\u001b[0m\u001b[0;34m}\u001b[0m\u001b[0;34m)\u001b[0m\u001b[0;34m\u001b[0m\u001b[0;34m\u001b[0m\u001b[0m\n\u001b[0m\u001b[1;32m    334\u001b[0m \u001b[0;34m\u001b[0m\u001b[0m\n\u001b[1;32m    335\u001b[0m     \u001b[0;34m@\u001b[0m\u001b[0mproperty\u001b[0m\u001b[0;34m\u001b[0m\u001b[0;34m\u001b[0m\u001b[0m\n",
            "\u001b[0;32m/usr/local/lib/python3.7/dist-packages/selenium/webdriver/remote/webdriver.py\u001b[0m in \u001b[0;36mexecute\u001b[0;34m(self, driver_command, params)\u001b[0m\n\u001b[1;32m    317\u001b[0m \u001b[0;34m\u001b[0m\u001b[0m\n\u001b[1;32m    318\u001b[0m         \u001b[0mparams\u001b[0m \u001b[0;34m=\u001b[0m \u001b[0mself\u001b[0m\u001b[0;34m.\u001b[0m\u001b[0m_wrap_value\u001b[0m\u001b[0;34m(\u001b[0m\u001b[0mparams\u001b[0m\u001b[0;34m)\u001b[0m\u001b[0;34m\u001b[0m\u001b[0;34m\u001b[0m\u001b[0m\n\u001b[0;32m--> 319\u001b[0;31m         \u001b[0mresponse\u001b[0m \u001b[0;34m=\u001b[0m \u001b[0mself\u001b[0m\u001b[0;34m.\u001b[0m\u001b[0mcommand_executor\u001b[0m\u001b[0;34m.\u001b[0m\u001b[0mexecute\u001b[0m\u001b[0;34m(\u001b[0m\u001b[0mdriver_command\u001b[0m\u001b[0;34m,\u001b[0m \u001b[0mparams\u001b[0m\u001b[0;34m)\u001b[0m\u001b[0;34m\u001b[0m\u001b[0;34m\u001b[0m\u001b[0m\n\u001b[0m\u001b[1;32m    320\u001b[0m         \u001b[0;32mif\u001b[0m \u001b[0mresponse\u001b[0m\u001b[0;34m:\u001b[0m\u001b[0;34m\u001b[0m\u001b[0;34m\u001b[0m\u001b[0m\n\u001b[1;32m    321\u001b[0m             \u001b[0mself\u001b[0m\u001b[0;34m.\u001b[0m\u001b[0merror_handler\u001b[0m\u001b[0;34m.\u001b[0m\u001b[0mcheck_response\u001b[0m\u001b[0;34m(\u001b[0m\u001b[0mresponse\u001b[0m\u001b[0;34m)\u001b[0m\u001b[0;34m\u001b[0m\u001b[0;34m\u001b[0m\u001b[0m\n",
            "\u001b[0;32m/usr/local/lib/python3.7/dist-packages/selenium/webdriver/remote/remote_connection.py\u001b[0m in \u001b[0;36mexecute\u001b[0;34m(self, command, params)\u001b[0m\n\u001b[1;32m    372\u001b[0m         \u001b[0mdata\u001b[0m \u001b[0;34m=\u001b[0m \u001b[0mutils\u001b[0m\u001b[0;34m.\u001b[0m\u001b[0mdump_json\u001b[0m\u001b[0;34m(\u001b[0m\u001b[0mparams\u001b[0m\u001b[0;34m)\u001b[0m\u001b[0;34m\u001b[0m\u001b[0;34m\u001b[0m\u001b[0m\n\u001b[1;32m    373\u001b[0m         \u001b[0murl\u001b[0m \u001b[0;34m=\u001b[0m \u001b[0;34m'%s%s'\u001b[0m \u001b[0;34m%\u001b[0m \u001b[0;34m(\u001b[0m\u001b[0mself\u001b[0m\u001b[0;34m.\u001b[0m\u001b[0m_url\u001b[0m\u001b[0;34m,\u001b[0m \u001b[0mpath\u001b[0m\u001b[0;34m)\u001b[0m\u001b[0;34m\u001b[0m\u001b[0;34m\u001b[0m\u001b[0m\n\u001b[0;32m--> 374\u001b[0;31m         \u001b[0;32mreturn\u001b[0m \u001b[0mself\u001b[0m\u001b[0;34m.\u001b[0m\u001b[0m_request\u001b[0m\u001b[0;34m(\u001b[0m\u001b[0mcommand_info\u001b[0m\u001b[0;34m[\u001b[0m\u001b[0;36m0\u001b[0m\u001b[0;34m]\u001b[0m\u001b[0;34m,\u001b[0m \u001b[0murl\u001b[0m\u001b[0;34m,\u001b[0m \u001b[0mbody\u001b[0m\u001b[0;34m=\u001b[0m\u001b[0mdata\u001b[0m\u001b[0;34m)\u001b[0m\u001b[0;34m\u001b[0m\u001b[0;34m\u001b[0m\u001b[0m\n\u001b[0m\u001b[1;32m    375\u001b[0m \u001b[0;34m\u001b[0m\u001b[0m\n\u001b[1;32m    376\u001b[0m     \u001b[0;32mdef\u001b[0m \u001b[0m_request\u001b[0m\u001b[0;34m(\u001b[0m\u001b[0mself\u001b[0m\u001b[0;34m,\u001b[0m \u001b[0mmethod\u001b[0m\u001b[0;34m,\u001b[0m \u001b[0murl\u001b[0m\u001b[0;34m,\u001b[0m \u001b[0mbody\u001b[0m\u001b[0;34m=\u001b[0m\u001b[0;32mNone\u001b[0m\u001b[0;34m)\u001b[0m\u001b[0;34m:\u001b[0m\u001b[0;34m\u001b[0m\u001b[0;34m\u001b[0m\u001b[0m\n",
            "\u001b[0;32m/usr/local/lib/python3.7/dist-packages/selenium/webdriver/remote/remote_connection.py\u001b[0m in \u001b[0;36m_request\u001b[0;34m(self, method, url, body)\u001b[0m\n\u001b[1;32m    395\u001b[0m \u001b[0;34m\u001b[0m\u001b[0m\n\u001b[1;32m    396\u001b[0m         \u001b[0;32mif\u001b[0m \u001b[0mself\u001b[0m\u001b[0;34m.\u001b[0m\u001b[0mkeep_alive\u001b[0m\u001b[0;34m:\u001b[0m\u001b[0;34m\u001b[0m\u001b[0;34m\u001b[0m\u001b[0m\n\u001b[0;32m--> 397\u001b[0;31m             \u001b[0mresp\u001b[0m \u001b[0;34m=\u001b[0m \u001b[0mself\u001b[0m\u001b[0;34m.\u001b[0m\u001b[0m_conn\u001b[0m\u001b[0;34m.\u001b[0m\u001b[0mrequest\u001b[0m\u001b[0;34m(\u001b[0m\u001b[0mmethod\u001b[0m\u001b[0;34m,\u001b[0m \u001b[0murl\u001b[0m\u001b[0;34m,\u001b[0m \u001b[0mbody\u001b[0m\u001b[0;34m=\u001b[0m\u001b[0mbody\u001b[0m\u001b[0;34m,\u001b[0m \u001b[0mheaders\u001b[0m\u001b[0;34m=\u001b[0m\u001b[0mheaders\u001b[0m\u001b[0;34m)\u001b[0m\u001b[0;34m\u001b[0m\u001b[0;34m\u001b[0m\u001b[0m\n\u001b[0m\u001b[1;32m    398\u001b[0m \u001b[0;34m\u001b[0m\u001b[0m\n\u001b[1;32m    399\u001b[0m             \u001b[0mstatuscode\u001b[0m \u001b[0;34m=\u001b[0m \u001b[0mresp\u001b[0m\u001b[0;34m.\u001b[0m\u001b[0mstatus\u001b[0m\u001b[0;34m\u001b[0m\u001b[0;34m\u001b[0m\u001b[0m\n",
            "\u001b[0;32m/usr/local/lib/python3.7/dist-packages/urllib3/request.py\u001b[0m in \u001b[0;36mrequest\u001b[0;34m(self, method, url, fields, headers, **urlopen_kw)\u001b[0m\n\u001b[1;32m     70\u001b[0m             return self.request_encode_body(method, url, fields=fields,\n\u001b[1;32m     71\u001b[0m                                             \u001b[0mheaders\u001b[0m\u001b[0;34m=\u001b[0m\u001b[0mheaders\u001b[0m\u001b[0;34m,\u001b[0m\u001b[0;34m\u001b[0m\u001b[0;34m\u001b[0m\u001b[0m\n\u001b[0;32m---> 72\u001b[0;31m                                             **urlopen_kw)\n\u001b[0m\u001b[1;32m     73\u001b[0m \u001b[0;34m\u001b[0m\u001b[0m\n\u001b[1;32m     74\u001b[0m     def request_encode_url(self, method, url, fields=None, headers=None,\n",
            "\u001b[0;32m/usr/local/lib/python3.7/dist-packages/urllib3/request.py\u001b[0m in \u001b[0;36mrequest_encode_body\u001b[0;34m(self, method, url, fields, headers, encode_multipart, multipart_boundary, **urlopen_kw)\u001b[0m\n\u001b[1;32m    148\u001b[0m         \u001b[0mextra_kw\u001b[0m\u001b[0;34m.\u001b[0m\u001b[0mupdate\u001b[0m\u001b[0;34m(\u001b[0m\u001b[0murlopen_kw\u001b[0m\u001b[0;34m)\u001b[0m\u001b[0;34m\u001b[0m\u001b[0;34m\u001b[0m\u001b[0m\n\u001b[1;32m    149\u001b[0m \u001b[0;34m\u001b[0m\u001b[0m\n\u001b[0;32m--> 150\u001b[0;31m         \u001b[0;32mreturn\u001b[0m \u001b[0mself\u001b[0m\u001b[0;34m.\u001b[0m\u001b[0murlopen\u001b[0m\u001b[0;34m(\u001b[0m\u001b[0mmethod\u001b[0m\u001b[0;34m,\u001b[0m \u001b[0murl\u001b[0m\u001b[0;34m,\u001b[0m \u001b[0;34m**\u001b[0m\u001b[0mextra_kw\u001b[0m\u001b[0;34m)\u001b[0m\u001b[0;34m\u001b[0m\u001b[0;34m\u001b[0m\u001b[0m\n\u001b[0m",
            "\u001b[0;32m/usr/local/lib/python3.7/dist-packages/urllib3/poolmanager.py\u001b[0m in \u001b[0;36murlopen\u001b[0;34m(self, method, url, redirect, **kw)\u001b[0m\n\u001b[1;32m    322\u001b[0m             \u001b[0mresponse\u001b[0m \u001b[0;34m=\u001b[0m \u001b[0mconn\u001b[0m\u001b[0;34m.\u001b[0m\u001b[0murlopen\u001b[0m\u001b[0;34m(\u001b[0m\u001b[0mmethod\u001b[0m\u001b[0;34m,\u001b[0m \u001b[0murl\u001b[0m\u001b[0;34m,\u001b[0m \u001b[0;34m**\u001b[0m\u001b[0mkw\u001b[0m\u001b[0;34m)\u001b[0m\u001b[0;34m\u001b[0m\u001b[0;34m\u001b[0m\u001b[0m\n\u001b[1;32m    323\u001b[0m         \u001b[0;32melse\u001b[0m\u001b[0;34m:\u001b[0m\u001b[0;34m\u001b[0m\u001b[0;34m\u001b[0m\u001b[0m\n\u001b[0;32m--> 324\u001b[0;31m             \u001b[0mresponse\u001b[0m \u001b[0;34m=\u001b[0m \u001b[0mconn\u001b[0m\u001b[0;34m.\u001b[0m\u001b[0murlopen\u001b[0m\u001b[0;34m(\u001b[0m\u001b[0mmethod\u001b[0m\u001b[0;34m,\u001b[0m \u001b[0mu\u001b[0m\u001b[0;34m.\u001b[0m\u001b[0mrequest_uri\u001b[0m\u001b[0;34m,\u001b[0m \u001b[0;34m**\u001b[0m\u001b[0mkw\u001b[0m\u001b[0;34m)\u001b[0m\u001b[0;34m\u001b[0m\u001b[0;34m\u001b[0m\u001b[0m\n\u001b[0m\u001b[1;32m    325\u001b[0m \u001b[0;34m\u001b[0m\u001b[0m\n\u001b[1;32m    326\u001b[0m         \u001b[0mredirect_location\u001b[0m \u001b[0;34m=\u001b[0m \u001b[0mredirect\u001b[0m \u001b[0;32mand\u001b[0m \u001b[0mresponse\u001b[0m\u001b[0;34m.\u001b[0m\u001b[0mget_redirect_location\u001b[0m\u001b[0;34m(\u001b[0m\u001b[0;34m)\u001b[0m\u001b[0;34m\u001b[0m\u001b[0;34m\u001b[0m\u001b[0m\n",
            "\u001b[0;32m/usr/local/lib/python3.7/dist-packages/urllib3/connectionpool.py\u001b[0m in \u001b[0;36murlopen\u001b[0;34m(self, method, url, body, headers, retries, redirect, assert_same_host, timeout, pool_timeout, release_conn, chunked, body_pos, **response_kw)\u001b[0m\n\u001b[1;32m    598\u001b[0m                                                   \u001b[0mtimeout\u001b[0m\u001b[0;34m=\u001b[0m\u001b[0mtimeout_obj\u001b[0m\u001b[0;34m,\u001b[0m\u001b[0;34m\u001b[0m\u001b[0;34m\u001b[0m\u001b[0m\n\u001b[1;32m    599\u001b[0m                                                   \u001b[0mbody\u001b[0m\u001b[0;34m=\u001b[0m\u001b[0mbody\u001b[0m\u001b[0;34m,\u001b[0m \u001b[0mheaders\u001b[0m\u001b[0;34m=\u001b[0m\u001b[0mheaders\u001b[0m\u001b[0;34m,\u001b[0m\u001b[0;34m\u001b[0m\u001b[0;34m\u001b[0m\u001b[0m\n\u001b[0;32m--> 600\u001b[0;31m                                                   chunked=chunked)\n\u001b[0m\u001b[1;32m    601\u001b[0m \u001b[0;34m\u001b[0m\u001b[0m\n\u001b[1;32m    602\u001b[0m             \u001b[0;31m# If we're going to release the connection in ``finally:``, then\u001b[0m\u001b[0;34m\u001b[0m\u001b[0;34m\u001b[0m\u001b[0;34m\u001b[0m\u001b[0m\n",
            "\u001b[0;32m/usr/local/lib/python3.7/dist-packages/urllib3/connectionpool.py\u001b[0m in \u001b[0;36m_make_request\u001b[0;34m(self, conn, method, url, timeout, chunked, **httplib_request_kw)\u001b[0m\n\u001b[1;32m    378\u001b[0m             \u001b[0;32mexcept\u001b[0m \u001b[0mTypeError\u001b[0m\u001b[0;34m:\u001b[0m  \u001b[0;31m# Python 3\u001b[0m\u001b[0;34m\u001b[0m\u001b[0;34m\u001b[0m\u001b[0m\n\u001b[1;32m    379\u001b[0m                 \u001b[0;32mtry\u001b[0m\u001b[0;34m:\u001b[0m\u001b[0;34m\u001b[0m\u001b[0;34m\u001b[0m\u001b[0m\n\u001b[0;32m--> 380\u001b[0;31m                     \u001b[0mhttplib_response\u001b[0m \u001b[0;34m=\u001b[0m \u001b[0mconn\u001b[0m\u001b[0;34m.\u001b[0m\u001b[0mgetresponse\u001b[0m\u001b[0;34m(\u001b[0m\u001b[0;34m)\u001b[0m\u001b[0;34m\u001b[0m\u001b[0;34m\u001b[0m\u001b[0m\n\u001b[0m\u001b[1;32m    381\u001b[0m                 \u001b[0;32mexcept\u001b[0m \u001b[0mException\u001b[0m \u001b[0;32mas\u001b[0m \u001b[0me\u001b[0m\u001b[0;34m:\u001b[0m\u001b[0;34m\u001b[0m\u001b[0;34m\u001b[0m\u001b[0m\n\u001b[1;32m    382\u001b[0m                     \u001b[0;31m# Remove the TypeError from the exception chain in Python 3;\u001b[0m\u001b[0;34m\u001b[0m\u001b[0;34m\u001b[0m\u001b[0;34m\u001b[0m\u001b[0m\n",
            "\u001b[0;32m/usr/lib/python3.7/http/client.py\u001b[0m in \u001b[0;36mgetresponse\u001b[0;34m(self)\u001b[0m\n\u001b[1;32m   1367\u001b[0m         \u001b[0;32mtry\u001b[0m\u001b[0;34m:\u001b[0m\u001b[0;34m\u001b[0m\u001b[0;34m\u001b[0m\u001b[0m\n\u001b[1;32m   1368\u001b[0m             \u001b[0;32mtry\u001b[0m\u001b[0;34m:\u001b[0m\u001b[0;34m\u001b[0m\u001b[0;34m\u001b[0m\u001b[0m\n\u001b[0;32m-> 1369\u001b[0;31m                 \u001b[0mresponse\u001b[0m\u001b[0;34m.\u001b[0m\u001b[0mbegin\u001b[0m\u001b[0;34m(\u001b[0m\u001b[0;34m)\u001b[0m\u001b[0;34m\u001b[0m\u001b[0;34m\u001b[0m\u001b[0m\n\u001b[0m\u001b[1;32m   1370\u001b[0m             \u001b[0;32mexcept\u001b[0m \u001b[0mConnectionError\u001b[0m\u001b[0;34m:\u001b[0m\u001b[0;34m\u001b[0m\u001b[0;34m\u001b[0m\u001b[0m\n\u001b[1;32m   1371\u001b[0m                 \u001b[0mself\u001b[0m\u001b[0;34m.\u001b[0m\u001b[0mclose\u001b[0m\u001b[0;34m(\u001b[0m\u001b[0;34m)\u001b[0m\u001b[0;34m\u001b[0m\u001b[0;34m\u001b[0m\u001b[0m\n",
            "\u001b[0;32m/usr/lib/python3.7/http/client.py\u001b[0m in \u001b[0;36mbegin\u001b[0;34m(self)\u001b[0m\n\u001b[1;32m    308\u001b[0m         \u001b[0;31m# read until we get a non-100 response\u001b[0m\u001b[0;34m\u001b[0m\u001b[0;34m\u001b[0m\u001b[0;34m\u001b[0m\u001b[0m\n\u001b[1;32m    309\u001b[0m         \u001b[0;32mwhile\u001b[0m \u001b[0;32mTrue\u001b[0m\u001b[0;34m:\u001b[0m\u001b[0;34m\u001b[0m\u001b[0;34m\u001b[0m\u001b[0m\n\u001b[0;32m--> 310\u001b[0;31m             \u001b[0mversion\u001b[0m\u001b[0;34m,\u001b[0m \u001b[0mstatus\u001b[0m\u001b[0;34m,\u001b[0m \u001b[0mreason\u001b[0m \u001b[0;34m=\u001b[0m \u001b[0mself\u001b[0m\u001b[0;34m.\u001b[0m\u001b[0m_read_status\u001b[0m\u001b[0;34m(\u001b[0m\u001b[0;34m)\u001b[0m\u001b[0;34m\u001b[0m\u001b[0;34m\u001b[0m\u001b[0m\n\u001b[0m\u001b[1;32m    311\u001b[0m             \u001b[0;32mif\u001b[0m \u001b[0mstatus\u001b[0m \u001b[0;34m!=\u001b[0m \u001b[0mCONTINUE\u001b[0m\u001b[0;34m:\u001b[0m\u001b[0;34m\u001b[0m\u001b[0;34m\u001b[0m\u001b[0m\n\u001b[1;32m    312\u001b[0m                 \u001b[0;32mbreak\u001b[0m\u001b[0;34m\u001b[0m\u001b[0;34m\u001b[0m\u001b[0m\n",
            "\u001b[0;32m/usr/lib/python3.7/http/client.py\u001b[0m in \u001b[0;36m_read_status\u001b[0;34m(self)\u001b[0m\n\u001b[1;32m    269\u001b[0m \u001b[0;34m\u001b[0m\u001b[0m\n\u001b[1;32m    270\u001b[0m     \u001b[0;32mdef\u001b[0m \u001b[0m_read_status\u001b[0m\u001b[0;34m(\u001b[0m\u001b[0mself\u001b[0m\u001b[0;34m)\u001b[0m\u001b[0;34m:\u001b[0m\u001b[0;34m\u001b[0m\u001b[0;34m\u001b[0m\u001b[0m\n\u001b[0;32m--> 271\u001b[0;31m         \u001b[0mline\u001b[0m \u001b[0;34m=\u001b[0m \u001b[0mstr\u001b[0m\u001b[0;34m(\u001b[0m\u001b[0mself\u001b[0m\u001b[0;34m.\u001b[0m\u001b[0mfp\u001b[0m\u001b[0;34m.\u001b[0m\u001b[0mreadline\u001b[0m\u001b[0;34m(\u001b[0m\u001b[0m_MAXLINE\u001b[0m \u001b[0;34m+\u001b[0m \u001b[0;36m1\u001b[0m\u001b[0;34m)\u001b[0m\u001b[0;34m,\u001b[0m \u001b[0;34m\"iso-8859-1\"\u001b[0m\u001b[0;34m)\u001b[0m\u001b[0;34m\u001b[0m\u001b[0;34m\u001b[0m\u001b[0m\n\u001b[0m\u001b[1;32m    272\u001b[0m         \u001b[0;32mif\u001b[0m \u001b[0mlen\u001b[0m\u001b[0;34m(\u001b[0m\u001b[0mline\u001b[0m\u001b[0;34m)\u001b[0m \u001b[0;34m>\u001b[0m \u001b[0m_MAXLINE\u001b[0m\u001b[0;34m:\u001b[0m\u001b[0;34m\u001b[0m\u001b[0;34m\u001b[0m\u001b[0m\n\u001b[1;32m    273\u001b[0m             \u001b[0;32mraise\u001b[0m \u001b[0mLineTooLong\u001b[0m\u001b[0;34m(\u001b[0m\u001b[0;34m\"status line\"\u001b[0m\u001b[0;34m)\u001b[0m\u001b[0;34m\u001b[0m\u001b[0;34m\u001b[0m\u001b[0m\n",
            "\u001b[0;32m/usr/lib/python3.7/socket.py\u001b[0m in \u001b[0;36mreadinto\u001b[0;34m(self, b)\u001b[0m\n\u001b[1;32m    587\u001b[0m         \u001b[0;32mwhile\u001b[0m \u001b[0;32mTrue\u001b[0m\u001b[0;34m:\u001b[0m\u001b[0;34m\u001b[0m\u001b[0;34m\u001b[0m\u001b[0m\n\u001b[1;32m    588\u001b[0m             \u001b[0;32mtry\u001b[0m\u001b[0;34m:\u001b[0m\u001b[0;34m\u001b[0m\u001b[0;34m\u001b[0m\u001b[0m\n\u001b[0;32m--> 589\u001b[0;31m                 \u001b[0;32mreturn\u001b[0m \u001b[0mself\u001b[0m\u001b[0;34m.\u001b[0m\u001b[0m_sock\u001b[0m\u001b[0;34m.\u001b[0m\u001b[0mrecv_into\u001b[0m\u001b[0;34m(\u001b[0m\u001b[0mb\u001b[0m\u001b[0;34m)\u001b[0m\u001b[0;34m\u001b[0m\u001b[0;34m\u001b[0m\u001b[0m\n\u001b[0m\u001b[1;32m    590\u001b[0m             \u001b[0;32mexcept\u001b[0m \u001b[0mtimeout\u001b[0m\u001b[0;34m:\u001b[0m\u001b[0;34m\u001b[0m\u001b[0;34m\u001b[0m\u001b[0m\n\u001b[1;32m    591\u001b[0m                 \u001b[0mself\u001b[0m\u001b[0;34m.\u001b[0m\u001b[0m_timeout_occurred\u001b[0m \u001b[0;34m=\u001b[0m \u001b[0;32mTrue\u001b[0m\u001b[0;34m\u001b[0m\u001b[0;34m\u001b[0m\u001b[0m\n",
            "\u001b[0;31mKeyboardInterrupt\u001b[0m: "
          ]
        }
      ]
    },
    {
      "cell_type": "code",
      "metadata": {
        "id": "x56aHK9OcNvi",
        "colab": {
          "base_uri": "https://localhost:8080/"
        },
        "outputId": "0387d29c-da12-4544-d765-72b313debb02"
      },
      "source": [
        "#kbs\n",
        "url = 'https://www.kbs.co.kr/programlist/'\n",
        "selector = '#content > div > div > div.sitemap-area > dl'\n",
        "html = bs(requests.get(url).text.replace(' ', ''), 'html.parser')\n",
        "print(html)\n",
        "\n",
        "ls = html.select(selector)\n",
        "\n",
        "programs = []\n",
        "\n",
        "for li in ls:\n",
        "  genre = li.find('dt').find('a').find('span').text\n",
        "  a = li.find('dt').find('a')\n",
        "  print(a)"
      ],
      "execution_count": null,
      "outputs": [
        {
          "output_type": "stream",
          "text": [
            "<!DOCTYPE DOCTYPEhtml>\n",
            "\n",
            "<htmllang=\"ko\">\n",
            "<head>\n",
            "<metahttp-equiv=\"content-type\"content=\"text html;charset='UTF-8\"/'>\n",
            "<metahttp-equiv=\"x-ua-compatible\"content=\"ie=edge\"></metahttp-equiv=\"x-ua-compatible\"content=\"ie=edge\">\n",
            "<metaname=\"viewport\"content=\"width=device-width,initial-scale=1.0,maximum-scale=1.0,minimum-scale=1.0,user-scalable=no,target-densitydpi=medium-dpi\"></metaname=\"viewport\"content=\"width=device-width,initial-scale=1.0,maximum-scale=1.0,minimum-scale=1.0,user-scalable=no,target-densitydpi=medium-dpi\">\n",
            "<metaname=\"apple-mobile-web-app-capable\"content=\"yes\"></metaname=\"apple-mobile-web-app-capable\"content=\"yes\">\n",
            "<metaname=\"apple-mobile-web-app-status-bar-style\"content=\"black\"></metaname=\"apple-mobile-web-app-status-bar-style\"content=\"black\">\n",
            "<linkrel=\"shortcuticon\"href=\"https: 20210706104746=\"\" favicon=\"\" favicon.ico\"=\"\" images=\"\" resources=\"\" static.kbs.co.kr=\"\" www=\"\"></linkrel=\"shortcuticon\"href=\"https:>\n",
            "<linkrel=\"shortcuticon\"href=\"https: 20210706104746=\"\" favicon=\"\" favicon.png\"=\"\" images=\"\" resources=\"\" static.kbs.co.kr=\"\" www=\"\"></linkrel=\"shortcuticon\"href=\"https:>\n",
            "<linkrel=\"apple-touch-icon\"href=\"https: 20210706104746=\"\" favorite=\"\" favorite.png\"=\"\" images=\"\" resources=\"\" static.kbs.co.kr=\"\" www=\"\"></linkrel=\"apple-touch-icon\"href=\"https:>\n",
            "<metaname=\"description\"content=\"대한민국대표공영미디어kbs\"></metaname=\"description\"content=\"대한민국대표공영미디어kbs\">\n",
            "<metaname=\"keywords\"content=\"kbs,kbs,한국방송공사\"></metaname=\"keywords\"content=\"kbs,kbs,한국방송공사\">\n",
            "<metaproperty=\"og:title\"content=\"kbs\"></metaproperty=\"og:title\"content=\"kbs\">\n",
            "<metaproperty=\"og:site_name\"content=\"kbs\"></metaproperty=\"og:site_name\"content=\"kbs\">\n",
            "<metaproperty=\"og:url\"content=\"http: \"=\"\" programlist=\"\" www.kbs.co.kr=\"\"></metaproperty=\"og:url\"content=\"http:>\n",
            "<metaproperty=\"og:image\"content=\"https: 20210706104746=\"\" images=\"\" kbs_og.png\"=\"\" og=\"\" resources=\"\" static.kbs.co.kr=\"\" www=\"\"></metaproperty=\"og:image\"content=\"https:>\n",
            "<metaproperty=\"og:description\"content=\"대한민국대표공영미디어kbs\"></metaproperty=\"og:description\"content=\"대한민국대표공영미디어kbs\">\n",
            "<metaproperty=\"og:type\"content=\"website\"></metaproperty=\"og:type\"content=\"website\">\n",
            "<metaname=\"twitter:card\"content=\"summary\"></metaname=\"twitter:card\"content=\"summary\">\n",
            "<metaname=\"twitter:title\"content=\"kbs\"></metaname=\"twitter:title\"content=\"kbs\">\n",
            "<metaname=\"twitter:site\"content=\"kbs\"></metaname=\"twitter:site\"content=\"kbs\">\n",
            "<metaname=\"twitter:url\"content=\"http: \"=\"\" programlist=\"\" www.kbs.co.kr=\"\"></metaname=\"twitter:url\"content=\"http:>\n",
            "<metaname=\"twitter:image\"content=\"https: 20210706104746=\"\" images=\"\" kbs_og.png\"=\"\" og=\"\" resources=\"\" static.kbs.co.kr=\"\" www=\"\"></metaname=\"twitter:image\"content=\"https:>\n",
            "<metaname=\"twitter:description\"content=\"대한민국대표공영미디어kbs\"></metaname=\"twitter:description\"content=\"대한민국대표공영미디어kbs\">\n",
            "<!--안드로이드홈화면추가시상단주소창제거-->\n",
            "<metaname=\"mobile-web-app-capable\"content=\"yes\">\n",
            "<!--ios홈화면추가시상단주소창제거-->\n",
            "<metaname=\"apple-mobile-web-app-capable\"content=\"yes\">\n",
            "<title>프로그램전체보기|디지털KBS</title>\n",
            "<linkrel=\"stylesheet\"href=\"https: 20210706104746=\"\" css=\"\" resources=\"\" static.kbs.co.kr=\"\" style.min.css\"media=\"all\" www=\"\">\n",
            "</linkrel=\"stylesheet\"href=\"https:></metaname=\"apple-mobile-web-app-capable\"content=\"yes\"></metaname=\"mobile-web-app-capable\"content=\"yes\"></metahttp-equiv=\"content-type\"content=\"text></head>\n",
            "<body>\n",
            "<divid=\"skipnav\"class=\"skip_navi\">\n",
            "<ul>\n",
            "<li><ahref=\"#content-skiplink\">본문바로가기</ahref=\"#content-skiplink\"></li></ul></divid=\"skipnav\"class=\"skip_navi\"></body></htmllang=\"ko\">\n",
            "<li><ahref=\"http: able.kbs.co.kr\"=\"\">장애인서비스바로가기</ahref=\"http:></li>\n",
            "<li><ahref=\"#header-menu-skiplink\">메뉴바로가기</ahref=\"#header-menu-skiplink\"></li>\n",
            "<li><ahref=\"#footer\">푸터바로가기</ahref=\"#footer\"></li>\n",
            "\n",
            "<!--//#skip_navigation-->\n",
            "<divid=\"wrap\">\n",
            "<divid=\"container\"><!--[C]하단으로스크롤시class=\"sticky\"가추가됩니다.-->\n",
            "<divid=\"header\"></divid=\"header\"></divid=\"container\"></divid=\"wrap\"><!--//#header--><!--2017-02-20메뉴순서변경-->\n",
            "<divid=\"content\">\n",
            "<aid=\"content-skiplink\"class=\"blind-link\"href=\"#content-skiplink\"title=\"본문영역의키보드초점을받기위한링크입니다.이동기능은없습니다.\">이동이없는링크입니다</aid=\"content-skiplink\"class=\"blind-link\"href=\"#content-skiplink\"title=\"본문영역의키보드초점을받기위한링크입니다.이동기능은없습니다.\"></divid=\"content\">\n",
            "<h2class=\"blind\">본문영역</h2class=\"blind\">\n",
            "<divclass=\"component\">\n",
            "<divclass=\"component-boxsitemap\">\n",
            "<h4class=\"tit-a\">방영프로그램전체보기</h4class=\"tit-a\"></divclass=\"component-boxsitemap\"></divclass=\"component\">\n",
            "<divclass=\"sitemap-navi\">\n",
            "<h5class=\"blind\">채널바로가기</h5class=\"blind\"></divclass=\"sitemap-navi\">\n",
            "<ul>\n",
            "<li><ahref=\"#ch-drama\">드라마리스트바로가기</ahref=\"#ch-drama\"></li></ul>\n",
            "<li><ahref=\"#ch-enter\">예능리스트바로가기</ahref=\"#ch-enter\"></li>\n",
            "<li><ahref=\"#ch-sisa\">시사교양리스트바로가기</ahref=\"#ch-sisa\"></li>\n",
            "<li><ahref=\"#ch-1r\">1Radio리스트바로가기</ahref=\"#ch-1r\"></li>\n",
            "<li><ahref=\"#ch-happyfm\">HappyFM리스트바로가기</ahref=\"#ch-happyfm\"></li>\n",
            "<li><ahref=\"#ch-3r\">3Radio리스트바로가기</ahref=\"#ch-3r\"></li>\n",
            "<li><ahref=\"#ch-classicfm\">ClassicFM리스트바로가기</ahref=\"#ch-classicfm\"></li>\n",
            "<li><ahref=\"#ch-coolfm\">CoolFM리스트바로가기</ahref=\"#ch-coolfm\"></li>\n",
            "<li><ahref=\"#ch-han\">한민족방송리스트바로가기</ahref=\"#ch-han\"></li>\n",
            "\n",
            "\n",
            "<divclass=\"sitemap-area\">\n",
            "<dl>\n",
            "<dt><ahref=\"http: drama.kbs.co.kr\"id=\"ch-drama\" name=\"ch-drama\"><span>드라마</span></ahref=\"http:></dt></dl></divclass=\"sitemap-area\">\n",
            "<dd>\n",
            "<ulid=\"section_03\">\n",
            "</ulid=\"section_03\"></dd>\n",
            "\n",
            "<ddclass=\"sitemap-end\"><ahref=\"http: drama.kbs.co.kr=\"\" list03.html?section_id='5799&amp;api_id=144\"'>종영드라마프로그램바로가기</ahref=\"http:></ddclass=\"sitemap-end\">\n",
            "\n",
            "<dl>\n",
            "<dt><ahref=\"http: fun.kbs.co.kr\"id=\"ch-enter\" name=\"ch-enter\"><span>예능</span></ahref=\"http:></dt></dl>\n",
            "<dd>\n",
            "<ulid=\"section_04\">\n",
            "</ulid=\"section_04\"></dd>\n",
            "\n",
            "<ddclass=\"sitemap-end\"><ahref=\"http: fun.kbs.co.kr=\"\" list02.html\"=\"\">종영예능프로그램바로가기</ahref=\"http:></ddclass=\"sitemap-end\">\n",
            "\n",
            "<dl>\n",
            "<dt><ahref=\"http: culture.kbs.co.kr\"id=\"ch-sisa\" name=\"ch-sisa\"><span>시사교양</span></ahref=\"http:></dt></dl>\n",
            "<dd>\n",
            "<ulid=\"section_05\">\n",
            "</ulid=\"section_05\"></dd>\n",
            "\n",
            "<ddclass=\"sitemap-end\"><ahref=\"http: culture.kbs.co.kr=\"\" list02.html\"=\"\">종영시사교양프로그램바로가기</ahref=\"http:></ddclass=\"sitemap-end\">\n",
            "\n",
            "<dl>\n",
            "<dt><ahref=\"http: \"id=\"ch-1r\" name=\"ch-1r\" radio.kbs.co.kr=\"\"><span>1Radio</span></ahref=\"http:></dt></dl>\n",
            "<dd>\n",
            "<ulid=\"section_radio_21\">\n",
            "</ulid=\"section_radio_21\"></dd>\n",
            "\n",
            "\n",
            "<dlclass=\"no-line\">\n",
            "<dt><ahref=\"http: \"id=\"ch-happyfm\" name=\"ch-happyfm\" radio.kbs.co.kr=\"\"><span>HappyFM</span></ahref=\"http:></dt></dlclass=\"no-line\">\n",
            "<dd>\n",
            "<ulid=\"section_radio_22\">\n",
            "</ulid=\"section_radio_22\"></dd>\n",
            "\n",
            "\n",
            "<dlclass=\"no-line\">\n",
            "<dt><ahref=\"http: \"id=\"ch-3r\" name=\"ch-3r\" radio.kbs.co.kr=\"\"><span>3Radio</span></ahref=\"http:></dt></dlclass=\"no-line\">\n",
            "<dd>\n",
            "<ulid=\"section_radio_23\">\n",
            "</ulid=\"section_radio_23\"></dd>\n",
            "\n",
            "\n",
            "<dlclass=\"no-line\">\n",
            "<dt><ahref=\"http: \"id=\"ch-classicfm\" name=\"ch-classicfm\" radio.kbs.co.kr=\"\"><span>ClassicFM</span></ahref=\"http:></dt></dlclass=\"no-line\">\n",
            "<dd>\n",
            "<ulid=\"section_radio_24\">\n",
            "</ulid=\"section_radio_24\"></dd>\n",
            "\n",
            "\n",
            "<dlclass=\"no-line\">\n",
            "<dt><ahref=\"http: \"id=\"ch-coolfm\" name=\"ch-coolfm\" radio.kbs.co.kr=\"\"><span>CoolFM</span></ahref=\"http:></dt></dlclass=\"no-line\">\n",
            "<dd>\n",
            "<ulid=\"section_radio_25\">\n",
            "</ulid=\"section_radio_25\"></dd>\n",
            "\n",
            "\n",
            "<dlclass=\"no-line\">\n",
            "<dt><ahref=\"http: \"id=\"ch-han\" name=\"ch-han\" radio.kbs.co.kr=\"\"><span>한민족방송</span></ahref=\"http:></dt></dlclass=\"no-line\">\n",
            "<dd>\n",
            "<ulid=\"section_radio_26\">\n",
            "</ulid=\"section_radio_26\"></dd>\n",
            "\n",
            "<ddclass=\"sitemap-end\"><ahref=\"http: list05.html?section_id='4460&amp;api_id=144\"' radio.kbs.co.kr=\"\">종영라디오프로그램바로가기</ahref=\"http:></ddclass=\"sitemap-end\">\n",
            "\n",
            "\n",
            "\n",
            "<!--//.component-->\n",
            "<!--//#content-->\n",
            "<divid=\"footer\"class=\"footer\"></divid=\"footer\"class=\"footer\"><!--//#footer-->\n",
            "<!--//#container-->\n",
            "<!--//#wrap-->\n",
            "<scriptsrc=\"https: 20210706104746=\"\" js=\"\" resources=\"\" script.min.js\"=\"\" static.kbs.co.kr=\"\" www=\"\"></scriptsrc=\"https:>\n",
            "<scripttype=\"text javascript\"src=\"https://static.kbs.co.kr/www/20210706104746/resources/js/kbs/programlist/programlist.js\"></scripttype=\"text>\n",
            "\n",
            "\n",
            "\n"
          ],
          "name": "stdout"
        }
      ]
    },
    {
      "cell_type": "code",
      "metadata": {
        "id": "tc3TJbpxyn4e"
      },
      "source": [
        ""
      ],
      "execution_count": null,
      "outputs": []
    }
  ]
}