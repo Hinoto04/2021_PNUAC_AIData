{
  "nbformat": 4,
  "nbformat_minor": 0,
  "metadata": {
    "colab": {
      "name": "07_codelab3_bs.ipynb",
      "provenance": [],
      "include_colab_link": true
    },
    "interpreter": {
      "hash": "b3ba2566441a7c06988d0923437866b63cedc61552a5af99d1f4fb67d367b25f"
    },
    "kernelspec": {
      "display_name": "Python 3.8.5 64-bit ('base': conda)",
      "name": "python3"
    },
    "language_info": {
      "name": "python",
      "version": ""
    }
  },
  "cells": [
    {
      "cell_type": "markdown",
      "metadata": {
        "id": "view-in-github",
        "colab_type": "text"
      },
      "source": [
        "<a href=\"https://colab.research.google.com/github/Hinoto04/2021_PNUAC_AIData/blob/main/07_codelab3_bs.ipynb\" target=\"_parent\"><img src=\"https://colab.research.google.com/assets/colab-badge.svg\" alt=\"Open In Colab\"/></a>"
      ]
    },
    {
      "cell_type": "markdown",
      "metadata": {
        "id": "ujvDcnX-o9-W"
      },
      "source": [
        "🏷️ **웹 동작원리**\n",
        "\n",
        "\n",
        "---\n",
        "<img src ='https://drive.google.com/uc?export=view&id=1amZ78fUnfp3o5Q1XVKDG3eAAzKaYlPrp'>\n",
        "\n",
        "---"
      ]
    },
    {
      "cell_type": "markdown",
      "metadata": {
        "id": "yaRwPjIG0UbX"
      },
      "source": [
        "# Beautiful Soup 모듈\n",
        "+ HTML 및 XML 문서 를 구문 분석하기 위한 Python 패키지\n",
        "+ DOM 추출\n",
        "+ 기본적으로 UTF-8 인코딩 방식이지만 CP949도 지원"
      ]
    },
    {
      "cell_type": "markdown",
      "metadata": {
        "id": "qXgcvJCO1XM6"
      },
      "source": [
        "🏷️ **웹 스크래핑(Web Scraping)과 웹 크롤링(Web Crawling)**\n",
        "\n",
        "\n",
        "---\n",
        "+ 웹 스크래핑(Web Scraping) : 웹 사이트 상에서 원하는 정보를 추출하는 기술\n",
        "+ 웹 크롤링(Web Crawling) : 웹 크롤러(자동화봇)가정해진 규칙에 따라 웹 페이지를 수집해서 각 사이트의 정보를 분류하는 기술\n",
        "\n",
        "\n",
        "\n",
        "\n",
        "---\n",
        "\n",
        "\n"
      ]
    },
    {
      "cell_type": "markdown",
      "metadata": {
        "id": "7U-axA1K3yaR"
      },
      "source": [
        "## BeautifulSoup 모듈을 활용한 스크래핑"
      ]
    },
    {
      "cell_type": "markdown",
      "metadata": {
        "id": "a2-66aK64FqU"
      },
      "source": [
        "### 1. 웹 페이지 가져오기"
      ]
    },
    {
      "cell_type": "code",
      "metadata": {
        "colab": {
          "base_uri": "https://localhost:8080/",
          "height": 53
        },
        "id": "qSqcLjpt0NZH",
        "outputId": "471ef57a-ef34-4c4d-d6a5-4936ac4292bc"
      },
      "source": [
        "#모듈 import \n",
        "from bs4 import BeautifulSoup as bs\n",
        "from urllib.request import Request, urlopen\n",
        "\n",
        "url = 'https://news.daum.net/ranking/popular'\n",
        "#웹 페이지 가져오기 \n",
        "webpage = urlopen(url).read().decode('utf-8')\n",
        "\n",
        "webpage[:200]"
      ],
      "execution_count": 32,
      "outputs": [
        {
          "output_type": "execute_result",
          "data": {
            "application/vnd.google.colaboratory.intrinsic+json": {
              "type": "string"
            },
            "text/plain": [
              "'\\n<!DOCTYPE html>\\n\\n\\n\\n<html lang=\"ko\" class=\"os_unknown none unknown version_0 \">\\n<head>\\n<meta charset=\"utf-8\">\\n<meta name=\"referrer\" content=\"always\" />\\n\\n<meta property=\"og:author\" content=\"Daum 뉴스\" />'"
            ]
          },
          "metadata": {
            "tags": []
          },
          "execution_count": 32
        }
      ]
    },
    {
      "cell_type": "markdown",
      "metadata": {
        "id": "UiUuj4XA46HA"
      },
      "source": [
        "### 2. BeautifulSoup 객체 생성\n",
        "\n",
        "```python\n",
        "from bs4 import BeautifulSoup as bs\n",
        "\n",
        "인스턴스명 = BeautifulSoup(markup, parser)\n",
        "```\n",
        "* 첫 번째 인자 : HTML 형식의 문자열\n",
        "* 두 번째 인자 : 첫 번째 인자의 문자열을 해석하기 위한 파서\n",
        "\n",
        "  * **파서(parser) 종류**\n",
        "    + html.parser : 파이썬 표준 라이브러리에 포함된 파서로 빠르지만 유연하지 않기 때문에 단순한 HTML문서에 사용\n",
        "\n",
        "        ```\n",
        "        BeautifulSoup(markup, \"html.parser\")\n",
        "        ```\n",
        "\n",
        "    + lxml : 매우 빠르고 유연하지만 외부 의존\n",
        "      - lxml의 HTML 파서\n",
        "          ```\n",
        "          BeautifulSoup(markup, \"lxml\")\n",
        "          ```\n",
        "      - lxml의 XML 파서\n",
        "          ```\n",
        "          BeautifulSoup(markup, \"lxml-xml\")\n",
        "          ```\n",
        "\n",
        "    + html5lib : 웹 브라우저와 동일한 방식으로 페이지 구문 분석하는 파서로 매우 느리지만 매우 유연하지만 외부 의존\n",
        "        ```\n",
        "        BeautifulSoup(markup, \"html5lib\")\n",
        "      ```"
      ]
    },
    {
      "cell_type": "code",
      "metadata": {
        "id": "yBCdkhy15Vrr"
      },
      "source": [
        "#모듈 import \n",
        "from bs4 import BeautifulSoup as bs\n",
        " \n",
        "html = bs(webpage, 'html.parser')\n",
        "#DOM 문서 만들기\n",
        " "
      ],
      "execution_count": 34,
      "outputs": []
    },
    {
      "cell_type": "code",
      "metadata": {
        "colab": {
          "base_uri": "https://localhost:8080/"
        },
        "id": "NqqduTmfu_y1",
        "outputId": "15c0cb86-9c6c-4bdf-8903-8dc88f69d889"
      },
      "source": [
        "type(html)"
      ],
      "execution_count": 35,
      "outputs": [
        {
          "output_type": "execute_result",
          "data": {
            "text/plain": [
              "bs4.BeautifulSoup"
            ]
          },
          "metadata": {
            "tags": []
          },
          "execution_count": 35
        }
      ]
    },
    {
      "cell_type": "markdown",
      "metadata": {
        "id": "ZvinaJXV5ZDP"
      },
      "source": [
        "### 2. **Beautiful Soup 파싱 메소드**\n",
        "+ 태그명\n",
        "  + **.find(태그명)** : 조건에 맞는 태그 1개만 찾음\n",
        "  + **.find_all(태그명)** : 조건에 맞는 모든 태그 찾음\n",
        "+ css선택자\n",
        "  + **.select_one(선택자)** : 조건에 맞는 CSS선택자 1개만 찾음\n",
        "  + **.select(선택자)** : 조건에 맞는 CSS선택자 찾음"
      ]
    },
    {
      "cell_type": "markdown",
      "metadata": {
        "id": "KtEAsQTx72Ab"
      },
      "source": [
        "🏷️ **HTML과 CSS**\n",
        "\n",
        "\n",
        "---\n",
        "\n",
        "\n",
        "\n",
        "+ **HTML(Hyper Text Markup Language)**\n",
        "  + 웹페이지 상에서 문단, 제목, 표, 이미지, 동영상 등을 정의하고 웹페이지 내용을 구조화하고 의미를 부여하는 마크업 언어\n",
        "+ **CSS(Cascading Style Sheet)**\n",
        "  + 색상, 레이아웃 및 글꼴등 웹페이지의 디자인 요소를 담당하는 선언형 언어로 스타일 시트(Style Sheet)라고도 하고, HTML로 작성된 웹페이지를 보기 좋게 꾸며주는 스타일 규칙 언어\n",
        "\n",
        "+ 참고 사이트 : <https://www.w3schools.com/>\n",
        "\n",
        "\n",
        "---\n",
        "\n"
      ]
    },
    {
      "cell_type": "markdown",
      "metadata": {
        "id": "IrOBlRCZxdcd"
      },
      "source": [
        "#mArticle > div.rank_news > ul.list_news2 > li"
      ]
    },
    {
      "cell_type": "code",
      "metadata": {
        "colab": {
          "base_uri": "https://localhost:8080/"
        },
        "id": "CU0NvcF06bOt",
        "outputId": "cadebaa1-09fa-4caf-b0ee-fc96d3669130"
      },
      "source": [
        "#자료 추출하기\n",
        "lis = html.select('#mArticle > div.rank_news > ul.list_news2 > li')\n",
        "\n",
        "print(type(lis), ' 요소 수 : ', len(lis))\n",
        "print(lis[0])"
      ],
      "execution_count": null,
      "outputs": [
        {
          "output_type": "stream",
          "text": [
            "<class 'list'>  요소 수 :  50\n",
            "<li data-tiara-layer=\"news_list\" data-tiara-ordnum=\"1\" data-tiara-type=\"article\">\n",
            "<div class=\"rank_num rank_popular\">\n",
            "<span class=\"wrap_num\">\n",
            "<span class=\"num_rank\">\n",
            "<span class=\"num_news num1\"></span>\n",
            "<span class=\"screen_out\">1</span>\n",
            "</span>\n",
            "</span>\n",
            "</div>\n",
            "<a class=\"link_thumb\" href=\"https://v.daum.net/v/20210615200619216\">\n",
            "<img alt='이준석, 접종 모습도 화제.. 상의 탈의하며 \"국민에게 불쾌감 줘 민망\"' aria-hidden=\"true\" class=\"thumb_g\" src=\"https://img1.daumcdn.net/thumb/S95x77ht.u/?fname=https%3A%2F%2Ft1.daumcdn.net%2Fnews%2F202106%2F15%2Fsegye%2F20210615200619838raai.jpg&amp;scode=media\"/>\n",
            "</a>\n",
            "<div class=\"cont_thumb\">\n",
            "<strong class=\"tit_thumb\">\n",
            "<a class=\"link_txt\" href=\"https://v.daum.net/v/20210615200619216\">이준석, 접종 모습도 화제.. 상의 탈의하며 \"국민에게 불쾌감 줘 민망\"</a>\n",
            "<span class=\"info_news\">세계일보</span>\n",
            "</strong>\n",
            "<div class=\"desc_thumb\">\n",
            "<span class=\"link_txt\">\n",
            "                        민방위 대원인 이준석 국민의힘 대표가 15일 오전 서울 노원구의 한 병원에서 코로나19 얀센 백신을 접종하고 있다. 국회사진취재단  한국 헌정사 첫 30대 당수가 된 국...\n",
            "                    </span>\n",
            "</div>\n",
            "</div>\n",
            "</li>\n"
          ],
          "name": "stdout"
        }
      ]
    },
    {
      "cell_type": "code",
      "metadata": {
        "colab": {
          "base_uri": "https://localhost:8080/"
        },
        "id": "IkwduFv29ai6",
        "outputId": "56f22845-a425-437b-f4dd-882b3c6f8820"
      },
      "source": [
        "#필요한 자료 만들기\n",
        "for li in lis:\n",
        "  title = li.select_one('.cont_thumb > .tit_thumb > a').text.replace('\"', '')\n",
        "  print(title)"
      ],
      "execution_count": 36,
      "outputs": [
        {
          "output_type": "stream",
          "text": [
            "연인 관계 아니면 몰라..김부선, 이재명 신체감정 신청\n",
            "[단독] 김건희 박사논문 상황 엄중..국민대, '연구윤리위' 조사 착수\n",
            "국민의힘 코로나 4차 대유행 현실화..정부의 무능한 방역탓\n",
            "조은희 4차 대유행 주범, 20~30대 아닌 문재인 정부\n",
            "[단독] 윤석열과 고급 주상복합..이상한 전입신고\n",
            "'윤석열 아내' 박사학위 논문 문제있나..국민대, 예비조사 착수\n",
            "'1인 최대 500만원' 내일배움카드 전국민 확대\n",
            "'알바시급 1만원' 뿔난 소상공인들 사장은 공짜로 일하냐\n",
            "[단독] '조국 수사때 대검 차장' 강남일 연구위원 사의 표명\n",
            "'바지 발언' 쏘아 올린 이재명..김부선 이잘알 변호사 내편, 바지 벗을 시간\n",
            "연예인 얼굴도 퇴짜 맞았다..대박 터진 '로지' 탄생 뒷얘기 [영상]\n",
            "[ET] 아가야 엄마 일터란다 국회 온 생후 '59일 아기'\n",
            "국민대, 윤석열 부인 '박사 논문' 조사..사안 엄중\n",
            "조국 사모펀드 윤로남불..유인태, 왜 윤석열 아내 비판 안 하나\n",
            "대통령 의결한 재난지원금 80%, 이재명 주장에 흔들렸다\n",
            "이철희 靑수석, 국민의힘 보좌진 겨냥 니들은 시험으로 뽑았냐\n",
            "'탄소중립'인데..윤석열, '탄소중심' 마스크 해프닝\n",
            "검찰, 윤석열 아내 수사 1년째 '만지작'..그 배경은?\n",
            "733개 낱말 중 549개 그대로.. 김건희 논문, 기사 베꼈나\n",
            "일본인 100명, 가상화폐 투자금 안 돌려준 한국업체 고소\n",
            "'네덜란드 유명기자 피습'에 文 지금 겪고 있는 충격에 위로\n",
            "[팩트체크] '3호선서 쓰러진 여성, 남성들이 외면' 보도는 가짜\n",
            "신천지 이만희측 2심 재판부에 실체 밝혀 무죄 선고해달라\n",
            "이재명만 막자, 추미애도 돌아선 3차 토론회\n",
            "'경기지사' 이재명 정치활동 최소화하고 일단 전적으로 도정 집중\n",
            "서울 오후 6시 489명 확진..강남 현대百 20명 추가 누적 69명(종합)\n",
            "[단독] 동생 시신서 수면제..4년 전 부모 죽음도 의혹\n",
            "'감동' 추미애 이틀만에 5억 넘는 후원금..벌써 기적 만들어\n",
            "육군 3사관 생도 500명, 삼겹살 파티..논산훈련소 53명 확진\n",
            "日, 도쿄에 긴급사태 재선포\n",
            "상점 앞 불법 주차 신고했더니..욕설하고 밀치고\n",
            "조국 사모펀드 윤로남불에 권경애 '윤사모'가 '김건희 무죄'라 안해\n",
            "[주진우 라이브] 홍준표 윤석열, 국정농단 수사 당시 본인의 '경제공동체' 논리대로 장모 사건 해명해야\n",
            "입소 후 검사 두 차례나 했는데..육군훈련소 52명 집단감염\n",
            "[단독]금수저·법대생·ROTC에서 '가짜수산업자'로..또 고향이 '발칵'\n",
            "부정 있었나 들여다 볼 것 국민대, 尹 부인 김건희씨 박사논문 의혹 조사\n",
            "'정국 혼란' 아이티 대통령, 괴한들에게 피살(종합)\n",
            "500mm 물폭탄에 사라진 집·텃밭..우리 마을 맞아요?\n",
            "'탄핵의 강' 건너자던 이준석, 대구서 미래 얘기하고 싶다\n",
            "[이 시각 홍대] 손님 뚝 끊긴 유흥가..자영업자 망연자실\n",
            "윤석열 보좌했던 '동기' 강남일, 연구위원 강등 뒤 사표 냈다\n",
            "원로 원자력공학자 윤석열 일오염수 발언, 뭘 알고 한건가\n",
            "민주노총 집회 발(發) 확진자 아직 확인 안돼..양경수 위원장 소환\n",
            "일주일 후에도 확진 쏟아지면, 저녁 6시 이후 3명 모임 금지\n",
            "사실상 '외출 금지'..4단계 격상 땐 무엇이 달라지나\n",
            "아이티 대통령, 괴한들에게 암살 당해\n",
            "민주당 정신 못차리면, 주인인 국민 나서서, 야단치겠다\n",
            "오후 9시까지 서울 536명 확진..이틀째 500명대\n",
            "[현장] 물폭탄에 '만조' 겹친 부산.. 해운대 주택 침수 대피\n",
            "아이티 대통령, 관저 난입 괴한에 암살당해\n"
          ],
          "name": "stdout"
        }
      ]
    },
    {
      "cell_type": "markdown",
      "metadata": {
        "id": "o0j52hED_Mqu"
      },
      "source": [
        "## 해결문제\n",
        "---\n",
        "댓글많은 뉴스를 사이트의 제목을 수집해서 AI Cloud의 무료 AI 서비스 중 텍스트 감정 분석 결과를 분석하고 결과를 파일로 저장하시오.단, 감성분석 분석(긍정,중립,부정)은 함수를 이용하여 작성하고 댓글수와 제목의 쉼표는 제거하시오.\n",
        "\n",
        "예시) \n",
        "news.csv 내용\n",
        "```\n",
        "순위,제목,댓글수,언론사,감성,신뢰도\n",
        "1,故손정민 父 \"서울경찰청 정민이와 나를 미워한다\",2564,데일리안,부정,0.9970703125\n",
        "2,신고만하면 한국인? \"中에 나라 파냐\" 국적법 때린 반중정서,2274,중앙일보,부정,0.99755859375\n",
        "3,'잔여 백신' 첫날 젊은층 대거 몰렸다..AZ 부정적 시선 바뀌나,1726,파이낸셜뉴스,부정,0.98974609375\n",
        "4,'도쿄올림픽 지도서 독도 삭제' 요구에 日정부 \"수용 불가\",1543,연합뉴스,부정,0.9873046875\n",
        "\n",
        "...\n",
        "\n",
        "47,\"손정민 사건 제가 책임지고\"..경찰 '김창룡 청장 가짜뉴스' 내사,115,뉴스1,부정,0.9921875\n",
        "48,로또 1등 수령자에 통장 비번 요구·5억 적금 강매한 농협,105,뉴스1,부정,0.99072265625\n",
        "49,'도쿄올림픽 지도서 독도 삭제' 韓요구에 日정부 \"수용 불가\",97,중앙일보,부정,0.986328125\n",
        "50,올림픽 취소로 日 배상금 떠안나..日언론 \"IOC와 불평등 계약\",93,뉴스1,부정,0.99609375\n",
        "\n",
        "```"
      ]
    },
    {
      "cell_type": "code",
      "metadata": {
        "id": "cXn_-BqTEn_J"
      },
      "source": [
        "#모듈 import \n",
        "from bs4 import BeautifulSoup as bs\n",
        "from urllib.request import Request, urlopen\n",
        "\n",
        "def aicheck(msg):\n",
        "  url = \"http://svc.saltlux.ai:31781\"\n",
        "  headers={\"Content-Type\":\"application/json\" } \n",
        "\n",
        "  apiKey = \"59ed95a7-a4ec-48ad-9af2-88d6ed666f85\"\n",
        "  rqData = {\n",
        "      \"key\": apiKey,\n",
        "      \"serviceId\": \"11987300804\",\n",
        "      \"argument\": {\n",
        "          \"type\": \"0\",\n",
        "          \"query\": msg\n",
        "      }\n",
        "  }\n",
        "  req = Request(url, headers=headers)\n",
        "  data = json.dumps(rqData).encode(\"utf-8\")\n",
        "  response = urlopen(req, data)\n",
        "  res = response.read().decode('utf-8')\n",
        "  res = json.loads(res)\n",
        "  return res['label'], res['score']\n",
        "\n",
        "url = 'https://news.daum.net/ranking/bestreply'\n",
        "\n",
        "#웹 페이지 가져오기 \n",
        "webpage = urlopen(url).read().decode('utf-8')\n",
        "html = bs(webpage, 'html.parser')\n",
        "\n",
        "#자료 추출하기\n",
        "lis = html.select('#mArticle > div.rank_news > ul.list_news2 > li')\n",
        "\n",
        "#필요한 자료 만들기\n",
        "with open('/content/drive/MyDrive/PNU AI 아카데미/news.csv', 'w') as fp:\n",
        "  linehead = '순위,제목,댓글수,언론사,감성,신뢰도\\n'\n",
        "  fp.write(linehead)\n",
        "  for li in lis:\n",
        "    rank = li.select_one('.screen_out').text\n",
        "    title = li.select_one('.cont_thumb > .tit_thumb > a').text.replace(',', '')\n",
        "    reply = li.select_one('.ico_news2').text.replace(',', '')\n",
        "    info_news = li.select_one('.info_news').text\n",
        "    label, score = aicheck(title)\n",
        "    line = f\"{rank},{title},{reply},{info_news},{label},{score}\\n\"\n",
        "    fp.write(line)"
      ],
      "execution_count": 40,
      "outputs": []
    },
    {
      "cell_type": "markdown",
      "metadata": {
        "id": "aTyzoYLczhyR"
      },
      "source": [
        "https://news.daum.net/ranking/bestreply"
      ]
    },
    {
      "cell_type": "markdown",
      "metadata": {
        "id": "CNlmUIWDdO64"
      },
      "source": [
        "\n",
        "\n",
        "---\n",
        "\n",
        "\n",
        "※ 카카오톡 메신저 내용 분석해보기\n",
        "\n",
        "\n",
        "---\n",
        "\n"
      ]
    }
  ]
}